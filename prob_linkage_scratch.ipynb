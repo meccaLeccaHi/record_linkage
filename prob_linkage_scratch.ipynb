{
 "cells": [
  {
   "cell_type": "code",
   "execution_count": 1,
   "metadata": {
    "collapsed": true
   },
   "outputs": [],
   "source": [
    "%load_ext sql\n",
    "#%config SqlMagic.autopandas=False"
   ]
  },
  {
   "cell_type": "code",
   "execution_count": 2,
   "metadata": {},
   "outputs": [
    {
     "data": {
      "text/plain": [
       "u'Connected: root@current'"
      ]
     },
     "execution_count": 2,
     "metadata": {},
     "output_type": "execute_result"
    }
   ],
   "source": [
    "%sql mysql://root@127.0.0.1/current"
   ]
  },
  {
   "cell_type": "markdown",
   "metadata": {},
   "source": [
    "### Join relevant tables\n",
    "Join PDD to deliveries"
   ]
  },
  {
   "cell_type": "code",
   "execution_count": 15,
   "metadata": {},
   "outputs": [
    {
     "name": "stderr",
     "output_type": "stream",
     "text": [
      "/usr/local/lib/python2.7/dist-packages/sqlalchemy/engine/default.py:470: Warning: Unknown table 'pdd_table'\n",
      "  cursor.execute(statement, parameters)\n"
     ]
    },
    {
     "name": "stdout",
     "output_type": "stream",
     "text": [
      "0 rows affected.\n",
      "43625 rows affected.\n"
     ]
    },
    {
     "data": {
      "text/plain": [
       "[]"
      ]
     },
     "execution_count": 15,
     "metadata": {},
     "output_type": "execute_result"
    }
   ],
   "source": [
    "%%sql\n",
    "DROP TABLE IF EXISTS pdd_table;\n",
    "CREATE TABLE pdd_table \n",
    "SELECT p.*, d.delivered_on\n",
    "FROM patient_discharges p\n",
    "JOIN deliveries d\n",
    "ON p.id=d.patient_discharge_id;"
   ]
  },
  {
   "cell_type": "markdown",
   "metadata": {},
   "source": [
    "Define tables to be compared"
   ]
  },
  {
   "cell_type": "code",
   "execution_count": 4,
   "metadata": {
    "collapsed": true
   },
   "outputs": [],
   "source": [
    "tableA = 'patient_discharges'\n",
    "tableB = 'births'"
   ]
  },
  {
   "cell_type": "markdown",
   "metadata": {},
   "source": [
    "Define fields to compare tables by"
   ]
  },
  {
   "cell_type": "code",
   "execution_count": 5,
   "metadata": {
    "collapsed": true
   },
   "outputs": [],
   "source": [
    "tableA_fields = ['admitted_on','discharged_on'] #pdd table\n",
    "#tableA_fields = ['date_of_birth'] #pdd table\n",
    "tableB_fields = ['date_of_delivery'] #bc table\n",
    "\n",
    "#comparisons = [\n",
    "#    \"date_of_birth = mothers_date_of_birth\",\n",
    "#    \"delivered_on = date_of_delivery\"\n",
    "#]"
   ]
  },
  {
   "cell_type": "markdown",
   "metadata": {},
   "source": [
    "Define field(s) to block by"
   ]
  },
  {
   "cell_type": "code",
   "execution_count": 6,
   "metadata": {
    "collapsed": true
   },
   "outputs": [],
   "source": [
    "tableA_blocks = ['hospital_id','sex_id']\n",
    "tableB_blocks = ['hospital_id','sex_id']"
   ]
  },
  {
   "cell_type": "markdown",
   "metadata": {},
   "source": [
    "### Block-wise linkage\n",
    "Find all possible values for 1st blocking field ('hospital_id')"
   ]
  },
  {
   "cell_type": "code",
   "execution_count": 8,
   "metadata": {},
   "outputs": [
    {
     "name": "stdout",
     "output_type": "stream",
     "text": [
      "0 rows affected.\n",
      "0 rows affected.\n",
      "12 rows affected.\n",
      "0 rows affected.\n"
     ]
    }
   ],
   "source": [
    "bl_stmt = 'SELECT T.blks FROM (' + \\\n",
    "'SELECT DISTINCT ' + tableA_blocks[0] + ' AS blks ' \\\n",
    "'FROM ' +  tableA + ' UNION ' + \\\n",
    "'SELECT DISTINCT ' + tableB_blocks[0] + ' AS blks ' \\\n",
    "'FROM ' +  tableB + ') as T ORDER BY blks;'\n",
    "\n",
    "print(bl_stmt)\n",
    "%sql PREPARE stmt_name FROM :bl_stmt;\n",
    "block_list1 = %sql EXECUTE stmt_name;\n",
    "print(block_list1)"
   ]
  },
  {
   "cell_type": "markdown",
   "metadata": {},
   "source": [
    "Find all possible values for 2nd blocking field"
   ]
  },
  {
   "cell_type": "code",
   "execution_count": 9,
   "metadata": {},
   "outputs": [
    {
     "name": "stdout",
     "output_type": "stream",
     "text": [
      "0 rows affected.\n",
      "0 rows affected.\n",
      "4 rows affected.\n",
      "0 rows affected.\n"
     ]
    }
   ],
   "source": [
    "bl_stmt = 'SELECT T.blks FROM (' + \\\n",
    "'SELECT DISTINCT ' + tableA_blocks[1] + ' AS blks ' \\\n",
    "'FROM ' +  tableA + ' UNION ' + \\\n",
    "'SELECT DISTINCT ' + tableB_blocks[1] + ' AS blks ' \\\n",
    "'FROM ' +  tableB + ') as T ORDER BY blks;'\n",
    "\n",
    "print(bl_stmt)\n",
    "%sql PREPARE stmt_name FROM :bl_stmt;\n",
    "block_list2 = %sql EXECUTE stmt_name;\n",
    "print(block_list2)"
   ]
  },
  {
   "cell_type": "markdown",
   "metadata": {},
   "source": [
    "### Craft each block"
   ]
  },
  {
   "cell_type": "code",
   "execution_count": 13,
   "metadata": {},
   "outputs": [
    {
     "name": "stdout",
     "output_type": "stream",
     "text": [
      "SELECT * FROM patient_discharges a WHERE a.hospital_id='1' AND a.sex_id='1';\n",
      "SELECT * FROM births b WHERE b.hospital_id='1' AND b.sex_id='1';\n"
     ]
    }
   ],
   "source": [
    "stmt1 = 'CREATE TABLE blockA SELECT * FROM ' + tableA + ' a ' + \\\n",
    "'WHERE a.' + tableA_blocks[0] + '=' + repr(str(block_list1[0][0])) + \\\n",
    "' AND a.' + tableA_blocks[1] + '=' + repr(str(block_list2[1][0])) + ';'\n",
    "print(stmt1)\n",
    "stmt2 = 'CREATE TABLE blockB SELECT * FROM ' + tableB + ' b ' + \\\n",
    "'WHERE b.' + tableB_blocks[0] + '=' + repr(str(block_list1[0][0])) + \\\n",
    "' AND b.' + tableB_blocks[1] + '=' + repr(str(block_list2[1][0])) + ';'\n",
    "print(stmt2)"
   ]
  },
  {
   "cell_type": "code",
   "execution_count": 14,
   "metadata": {},
   "outputs": [
    {
     "name": "stdout",
     "output_type": "stream",
     "text": [
      "0 rows affected.\n",
      "0 rows affected.\n",
      "2052 rows affected.\n",
      "0 rows affected.\n",
      "0 rows affected.\n",
      "0 rows affected.\n",
      "3756 rows affected.\n",
      "0 rows affected.\n"
     ]
    },
    {
     "ename": "UnicodeDecodeError",
     "evalue": "'utf8' codec can't decode byte 0x94 in position 2: invalid start byte",
     "output_type": "error",
     "traceback": [
      "\u001b[0;31m---------------------------------------------------------------------------\u001b[0m",
      "\u001b[0;31mUnicodeDecodeError\u001b[0m                        Traceback (most recent call last)",
      "\u001b[0;32m<ipython-input-14-9faf23e0c98e>\u001b[0m in \u001b[0;36m<module>\u001b[0;34m()\u001b[0m\n\u001b[1;32m      1\u001b[0m \u001b[0mblockA\u001b[0m \u001b[0;34m=\u001b[0m \u001b[0mexec_statement\u001b[0m\u001b[0;34m(\u001b[0m\u001b[0mstmt1\u001b[0m\u001b[0;34m)\u001b[0m\u001b[0;34m;\u001b[0m\u001b[0;34m\u001b[0m\u001b[0m\n\u001b[1;32m      2\u001b[0m \u001b[0mblockB\u001b[0m \u001b[0;34m=\u001b[0m \u001b[0mexec_statement\u001b[0m\u001b[0;34m(\u001b[0m\u001b[0mstmt2\u001b[0m\u001b[0;34m)\u001b[0m\u001b[0;34m;\u001b[0m\u001b[0;34m\u001b[0m\u001b[0m\n\u001b[0;32m----> 3\u001b[0;31m \u001b[0;32mprint\u001b[0m\u001b[0;34m(\u001b[0m\u001b[0mblockA\u001b[0m\u001b[0;34m)\u001b[0m\u001b[0;34m\u001b[0m\u001b[0m\n\u001b[0m",
      "\u001b[0;32m/usr/local/lib/python2.7/dist-packages/sql/run.pyc\u001b[0m in \u001b[0;36m__str__\u001b[0;34m(self, *arg, **kwarg)\u001b[0m\n\u001b[1;32m    125\u001b[0m             \u001b[0;32mreturn\u001b[0m \u001b[0mNone\u001b[0m\u001b[0;34m\u001b[0m\u001b[0m\n\u001b[1;32m    126\u001b[0m     \u001b[0;32mdef\u001b[0m \u001b[0m__str__\u001b[0m\u001b[0;34m(\u001b[0m\u001b[0mself\u001b[0m\u001b[0;34m,\u001b[0m \u001b[0;34m*\u001b[0m\u001b[0marg\u001b[0m\u001b[0;34m,\u001b[0m \u001b[0;34m**\u001b[0m\u001b[0mkwarg\u001b[0m\u001b[0;34m)\u001b[0m\u001b[0;34m:\u001b[0m\u001b[0;34m\u001b[0m\u001b[0m\n\u001b[0;32m--> 127\u001b[0;31m         \u001b[0;32mreturn\u001b[0m \u001b[0mstr\u001b[0m\u001b[0;34m(\u001b[0m\u001b[0mself\u001b[0m\u001b[0;34m.\u001b[0m\u001b[0mpretty\u001b[0m \u001b[0;32mor\u001b[0m \u001b[0;34m''\u001b[0m\u001b[0;34m)\u001b[0m\u001b[0;34m\u001b[0m\u001b[0m\n\u001b[0m\u001b[1;32m    128\u001b[0m     \u001b[0;32mdef\u001b[0m \u001b[0m__getitem__\u001b[0m\u001b[0;34m(\u001b[0m\u001b[0mself\u001b[0m\u001b[0;34m,\u001b[0m \u001b[0mkey\u001b[0m\u001b[0;34m)\u001b[0m\u001b[0;34m:\u001b[0m\u001b[0;34m\u001b[0m\u001b[0m\n\u001b[1;32m    129\u001b[0m         \"\"\"\n",
      "\u001b[0;32m/usr/local/lib/python2.7/dist-packages/prettytable.pyc\u001b[0m in \u001b[0;36m__str__\u001b[0;34m(self)\u001b[0m\n\u001b[1;32m    238\u001b[0m     \u001b[0;32melse\u001b[0m\u001b[0;34m:\u001b[0m\u001b[0;34m\u001b[0m\u001b[0m\n\u001b[1;32m    239\u001b[0m         \u001b[0;32mdef\u001b[0m \u001b[0m__str__\u001b[0m\u001b[0;34m(\u001b[0m\u001b[0mself\u001b[0m\u001b[0;34m)\u001b[0m\u001b[0;34m:\u001b[0m\u001b[0;34m\u001b[0m\u001b[0m\n\u001b[0;32m--> 240\u001b[0;31m            \u001b[0;32mreturn\u001b[0m \u001b[0mself\u001b[0m\u001b[0;34m.\u001b[0m\u001b[0m__unicode__\u001b[0m\u001b[0;34m(\u001b[0m\u001b[0;34m)\u001b[0m\u001b[0;34m.\u001b[0m\u001b[0mencode\u001b[0m\u001b[0;34m(\u001b[0m\u001b[0mself\u001b[0m\u001b[0;34m.\u001b[0m\u001b[0mencoding\u001b[0m\u001b[0;34m)\u001b[0m\u001b[0;34m\u001b[0m\u001b[0m\n\u001b[0m\u001b[1;32m    241\u001b[0m \u001b[0;34m\u001b[0m\u001b[0m\n\u001b[1;32m    242\u001b[0m     \u001b[0;32mdef\u001b[0m \u001b[0m__unicode__\u001b[0m\u001b[0;34m(\u001b[0m\u001b[0mself\u001b[0m\u001b[0;34m)\u001b[0m\u001b[0;34m:\u001b[0m\u001b[0;34m\u001b[0m\u001b[0m\n",
      "\u001b[0;32m/usr/local/lib/python2.7/dist-packages/prettytable.pyc\u001b[0m in \u001b[0;36m__unicode__\u001b[0;34m(self)\u001b[0m\n\u001b[1;32m    241\u001b[0m \u001b[0;34m\u001b[0m\u001b[0m\n\u001b[1;32m    242\u001b[0m     \u001b[0;32mdef\u001b[0m \u001b[0m__unicode__\u001b[0m\u001b[0;34m(\u001b[0m\u001b[0mself\u001b[0m\u001b[0;34m)\u001b[0m\u001b[0;34m:\u001b[0m\u001b[0;34m\u001b[0m\u001b[0m\n\u001b[0;32m--> 243\u001b[0;31m         \u001b[0;32mreturn\u001b[0m \u001b[0mself\u001b[0m\u001b[0;34m.\u001b[0m\u001b[0mget_string\u001b[0m\u001b[0;34m(\u001b[0m\u001b[0;34m)\u001b[0m\u001b[0;34m\u001b[0m\u001b[0m\n\u001b[0m\u001b[1;32m    244\u001b[0m \u001b[0;34m\u001b[0m\u001b[0m\n\u001b[1;32m    245\u001b[0m     \u001b[0;31m##############################\u001b[0m\u001b[0;34m\u001b[0m\u001b[0;34m\u001b[0m\u001b[0m\n",
      "\u001b[0;32m/usr/local/lib/python2.7/dist-packages/prettytable.pyc\u001b[0m in \u001b[0;36mget_string\u001b[0;34m(self, **kwargs)\u001b[0m\n\u001b[1;32m    985\u001b[0m \u001b[0;34m\u001b[0m\u001b[0m\n\u001b[1;32m    986\u001b[0m         \u001b[0;31m# Turn all data in all rows into Unicode, formatted as desired\u001b[0m\u001b[0;34m\u001b[0m\u001b[0;34m\u001b[0m\u001b[0m\n\u001b[0;32m--> 987\u001b[0;31m         \u001b[0mformatted_rows\u001b[0m \u001b[0;34m=\u001b[0m \u001b[0mself\u001b[0m\u001b[0;34m.\u001b[0m\u001b[0m_format_rows\u001b[0m\u001b[0;34m(\u001b[0m\u001b[0mrows\u001b[0m\u001b[0;34m,\u001b[0m \u001b[0moptions\u001b[0m\u001b[0;34m)\u001b[0m\u001b[0;34m\u001b[0m\u001b[0m\n\u001b[0m\u001b[1;32m    988\u001b[0m \u001b[0;34m\u001b[0m\u001b[0m\n\u001b[1;32m    989\u001b[0m         \u001b[0;31m# Compute column widths\u001b[0m\u001b[0;34m\u001b[0m\u001b[0;34m\u001b[0m\u001b[0m\n",
      "\u001b[0;32m/usr/local/lib/python2.7/dist-packages/prettytable.pyc\u001b[0m in \u001b[0;36m_format_rows\u001b[0;34m(self, rows, options)\u001b[0m\n\u001b[1;32m    940\u001b[0m \u001b[0;34m\u001b[0m\u001b[0m\n\u001b[1;32m    941\u001b[0m     \u001b[0;32mdef\u001b[0m \u001b[0m_format_rows\u001b[0m\u001b[0;34m(\u001b[0m\u001b[0mself\u001b[0m\u001b[0;34m,\u001b[0m \u001b[0mrows\u001b[0m\u001b[0;34m,\u001b[0m \u001b[0moptions\u001b[0m\u001b[0;34m)\u001b[0m\u001b[0;34m:\u001b[0m\u001b[0;34m\u001b[0m\u001b[0m\n\u001b[0;32m--> 942\u001b[0;31m         \u001b[0;32mreturn\u001b[0m \u001b[0;34m[\u001b[0m\u001b[0mself\u001b[0m\u001b[0;34m.\u001b[0m\u001b[0m_format_row\u001b[0m\u001b[0;34m(\u001b[0m\u001b[0mrow\u001b[0m\u001b[0;34m,\u001b[0m \u001b[0moptions\u001b[0m\u001b[0;34m)\u001b[0m \u001b[0;32mfor\u001b[0m \u001b[0mrow\u001b[0m \u001b[0;32min\u001b[0m \u001b[0mrows\u001b[0m\u001b[0;34m]\u001b[0m\u001b[0;34m\u001b[0m\u001b[0m\n\u001b[0m\u001b[1;32m    943\u001b[0m \u001b[0;34m\u001b[0m\u001b[0m\n\u001b[1;32m    944\u001b[0m     \u001b[0;31m##############################\u001b[0m\u001b[0;34m\u001b[0m\u001b[0;34m\u001b[0m\u001b[0m\n",
      "\u001b[0;32m/usr/local/lib/python2.7/dist-packages/prettytable.pyc\u001b[0m in \u001b[0;36m_format_row\u001b[0;34m(self, row, options)\u001b[0m\n\u001b[1;32m    937\u001b[0m \u001b[0;34m\u001b[0m\u001b[0m\n\u001b[1;32m    938\u001b[0m     \u001b[0;32mdef\u001b[0m \u001b[0m_format_row\u001b[0m\u001b[0;34m(\u001b[0m\u001b[0mself\u001b[0m\u001b[0;34m,\u001b[0m \u001b[0mrow\u001b[0m\u001b[0;34m,\u001b[0m \u001b[0moptions\u001b[0m\u001b[0;34m)\u001b[0m\u001b[0;34m:\u001b[0m\u001b[0;34m\u001b[0m\u001b[0m\n\u001b[0;32m--> 939\u001b[0;31m         \u001b[0;32mreturn\u001b[0m \u001b[0;34m[\u001b[0m\u001b[0mself\u001b[0m\u001b[0;34m.\u001b[0m\u001b[0m_format_value\u001b[0m\u001b[0;34m(\u001b[0m\u001b[0mfield\u001b[0m\u001b[0;34m,\u001b[0m \u001b[0mvalue\u001b[0m\u001b[0;34m)\u001b[0m \u001b[0;32mfor\u001b[0m \u001b[0;34m(\u001b[0m\u001b[0mfield\u001b[0m\u001b[0;34m,\u001b[0m \u001b[0mvalue\u001b[0m\u001b[0;34m)\u001b[0m \u001b[0;32min\u001b[0m \u001b[0mzip\u001b[0m\u001b[0;34m(\u001b[0m\u001b[0mself\u001b[0m\u001b[0;34m.\u001b[0m\u001b[0m_field_names\u001b[0m\u001b[0;34m,\u001b[0m \u001b[0mrow\u001b[0m\u001b[0;34m)\u001b[0m\u001b[0;34m]\u001b[0m\u001b[0;34m\u001b[0m\u001b[0m\n\u001b[0m\u001b[1;32m    940\u001b[0m \u001b[0;34m\u001b[0m\u001b[0m\n\u001b[1;32m    941\u001b[0m     \u001b[0;32mdef\u001b[0m \u001b[0m_format_rows\u001b[0m\u001b[0;34m(\u001b[0m\u001b[0mself\u001b[0m\u001b[0;34m,\u001b[0m \u001b[0mrows\u001b[0m\u001b[0;34m,\u001b[0m \u001b[0moptions\u001b[0m\u001b[0;34m)\u001b[0m\u001b[0;34m:\u001b[0m\u001b[0;34m\u001b[0m\u001b[0m\n",
      "\u001b[0;32m/usr/local/lib/python2.7/dist-packages/prettytable.pyc\u001b[0m in \u001b[0;36m_format_value\u001b[0;34m(self, field, value)\u001b[0m\n\u001b[1;32m    888\u001b[0m         \u001b[0;32melif\u001b[0m \u001b[0misinstance\u001b[0m\u001b[0;34m(\u001b[0m\u001b[0mvalue\u001b[0m\u001b[0;34m,\u001b[0m \u001b[0mfloat\u001b[0m\u001b[0;34m)\u001b[0m \u001b[0;32mand\u001b[0m \u001b[0mfield\u001b[0m \u001b[0;32min\u001b[0m \u001b[0mself\u001b[0m\u001b[0;34m.\u001b[0m\u001b[0m_float_format\u001b[0m\u001b[0;34m:\u001b[0m\u001b[0;34m\u001b[0m\u001b[0m\n\u001b[1;32m    889\u001b[0m             \u001b[0mvalue\u001b[0m \u001b[0;34m=\u001b[0m \u001b[0mself\u001b[0m\u001b[0;34m.\u001b[0m\u001b[0m_unicode\u001b[0m\u001b[0;34m(\u001b[0m\u001b[0;34m(\u001b[0m\u001b[0;34m\"%%%sf\"\u001b[0m \u001b[0;34m%\u001b[0m \u001b[0mself\u001b[0m\u001b[0;34m.\u001b[0m\u001b[0m_float_format\u001b[0m\u001b[0;34m[\u001b[0m\u001b[0mfield\u001b[0m\u001b[0;34m]\u001b[0m\u001b[0;34m)\u001b[0m \u001b[0;34m%\u001b[0m \u001b[0mvalue\u001b[0m\u001b[0;34m)\u001b[0m\u001b[0;34m\u001b[0m\u001b[0m\n\u001b[0;32m--> 890\u001b[0;31m         \u001b[0;32mreturn\u001b[0m \u001b[0mself\u001b[0m\u001b[0;34m.\u001b[0m\u001b[0m_unicode\u001b[0m\u001b[0;34m(\u001b[0m\u001b[0mvalue\u001b[0m\u001b[0;34m)\u001b[0m\u001b[0;34m\u001b[0m\u001b[0m\n\u001b[0m\u001b[1;32m    891\u001b[0m \u001b[0;34m\u001b[0m\u001b[0m\n\u001b[1;32m    892\u001b[0m     \u001b[0;32mdef\u001b[0m \u001b[0m_compute_widths\u001b[0m\u001b[0;34m(\u001b[0m\u001b[0mself\u001b[0m\u001b[0;34m,\u001b[0m \u001b[0mrows\u001b[0m\u001b[0;34m,\u001b[0m \u001b[0moptions\u001b[0m\u001b[0;34m)\u001b[0m\u001b[0;34m:\u001b[0m\u001b[0;34m\u001b[0m\u001b[0m\n",
      "\u001b[0;32m/usr/local/lib/python2.7/dist-packages/prettytable.pyc\u001b[0m in \u001b[0;36m_unicode\u001b[0;34m(self, value)\u001b[0m\n\u001b[1;32m    179\u001b[0m             \u001b[0mvalue\u001b[0m \u001b[0;34m=\u001b[0m \u001b[0mstr\u001b[0m\u001b[0;34m(\u001b[0m\u001b[0mvalue\u001b[0m\u001b[0;34m)\u001b[0m\u001b[0;34m\u001b[0m\u001b[0m\n\u001b[1;32m    180\u001b[0m         \u001b[0;32mif\u001b[0m \u001b[0;32mnot\u001b[0m \u001b[0misinstance\u001b[0m\u001b[0;34m(\u001b[0m\u001b[0mvalue\u001b[0m\u001b[0;34m,\u001b[0m \u001b[0municode\u001b[0m\u001b[0;34m)\u001b[0m\u001b[0;34m:\u001b[0m\u001b[0;34m\u001b[0m\u001b[0m\n\u001b[0;32m--> 181\u001b[0;31m             \u001b[0mvalue\u001b[0m \u001b[0;34m=\u001b[0m \u001b[0municode\u001b[0m\u001b[0;34m(\u001b[0m\u001b[0mvalue\u001b[0m\u001b[0;34m,\u001b[0m \u001b[0mself\u001b[0m\u001b[0;34m.\u001b[0m\u001b[0mencoding\u001b[0m\u001b[0;34m,\u001b[0m \u001b[0;34m\"strict\"\u001b[0m\u001b[0;34m)\u001b[0m\u001b[0;34m\u001b[0m\u001b[0m\n\u001b[0m\u001b[1;32m    182\u001b[0m         \u001b[0;32mreturn\u001b[0m \u001b[0mvalue\u001b[0m\u001b[0;34m\u001b[0m\u001b[0m\n\u001b[1;32m    183\u001b[0m \u001b[0;34m\u001b[0m\u001b[0m\n",
      "\u001b[0;32m/usr/lib/python2.7/encodings/utf_8.pyc\u001b[0m in \u001b[0;36mdecode\u001b[0;34m(input, errors)\u001b[0m\n\u001b[1;32m     14\u001b[0m \u001b[0;34m\u001b[0m\u001b[0m\n\u001b[1;32m     15\u001b[0m \u001b[0;32mdef\u001b[0m \u001b[0mdecode\u001b[0m\u001b[0;34m(\u001b[0m\u001b[0minput\u001b[0m\u001b[0;34m,\u001b[0m \u001b[0merrors\u001b[0m\u001b[0;34m=\u001b[0m\u001b[0;34m'strict'\u001b[0m\u001b[0;34m)\u001b[0m\u001b[0;34m:\u001b[0m\u001b[0;34m\u001b[0m\u001b[0m\n\u001b[0;32m---> 16\u001b[0;31m     \u001b[0;32mreturn\u001b[0m \u001b[0mcodecs\u001b[0m\u001b[0;34m.\u001b[0m\u001b[0mutf_8_decode\u001b[0m\u001b[0;34m(\u001b[0m\u001b[0minput\u001b[0m\u001b[0;34m,\u001b[0m \u001b[0merrors\u001b[0m\u001b[0;34m,\u001b[0m \u001b[0mTrue\u001b[0m\u001b[0;34m)\u001b[0m\u001b[0;34m\u001b[0m\u001b[0m\n\u001b[0m\u001b[1;32m     17\u001b[0m \u001b[0;34m\u001b[0m\u001b[0m\n\u001b[1;32m     18\u001b[0m \u001b[0;32mclass\u001b[0m \u001b[0mIncrementalEncoder\u001b[0m\u001b[0;34m(\u001b[0m\u001b[0mcodecs\u001b[0m\u001b[0;34m.\u001b[0m\u001b[0mIncrementalEncoder\u001b[0m\u001b[0;34m)\u001b[0m\u001b[0;34m:\u001b[0m\u001b[0;34m\u001b[0m\u001b[0m\n",
      "\u001b[0;31mUnicodeDecodeError\u001b[0m: 'utf8' codec can't decode byte 0x94 in position 2: invalid start byte"
     ]
    }
   ],
   "source": [
    "%%sql\n",
    "DROP TABLE IF EXISTS blockA;\n",
    "DROP TABLE IF EXISTS blockB;\n",
    "\n",
    "SET @query = :stmt1;\n",
    "PREPARE stmt_name FROM @query;\n",
    "EXECUTE stmt_name;\n",
    "\n",
    "SET @query = :stmt2;\n",
    "PREPARE stmt_name FROM @query;\n",
    "EXECUTE stmt_name;"
   ]
  },
  {
   "cell_type": "markdown",
   "metadata": {},
   "source": [
    "### Cross join (and sub-sample) the fields-of-interest from both blocks"
   ]
  },
  {
   "cell_type": "code",
   "execution_count": 11,
   "metadata": {
    "collapsed": true
   },
   "outputs": [],
   "source": [
    "# Prepare strings for sql statement based on the field (column) names within each table\n",
    "stmtA = ''.join(['a.%s, ' % (tableA_fields[n]) for n in xrange(len(tableA_fields))])\n",
    "stmtB = ''.join(['b.%s, ' % (tableB_fields[n]) for n in xrange(len(tableB_fields))])\n",
    "stmtB = stmtB[:-2] # Drop the final comma"
   ]
  },
  {
   "cell_type": "code",
   "execution_count": 20,
   "metadata": {},
   "outputs": [
    {
     "name": "stdout",
     "output_type": "stream",
     "text": [
      "CREATE TABLE cross_table SELECT a.id,a.admitted_on, a.discharged_on, b.date_of_delivery, b.id AS birth_id FROM blockA a CROSS JOIN blockB b;\n"
     ]
    }
   ],
   "source": [
    "cr_stmt = 'CREATE TABLE cross_table ' + 'SELECT a.id,' + stmtA + stmtB + ', b.id AS birth_id FROM blockA a CROSS JOIN blockB b;'\n",
    "#'WHERE rand() <= .01;'\n",
    "print(cr_stmt)"
   ]
  },
  {
   "cell_type": "code",
   "execution_count": 21,
   "metadata": {},
   "outputs": [
    {
     "name": "stdout",
     "output_type": "stream",
     "text": [
      "0 rows affected.\n",
      "0 rows affected.\n",
      "0 rows affected.\n",
      "7707312 rows affected.\n"
     ]
    },
    {
     "data": {
      "text/plain": [
       "[]"
      ]
     },
     "execution_count": 21,
     "metadata": {},
     "output_type": "execute_result"
    }
   ],
   "source": [
    "%%sql \n",
    "DROP TABLE IF EXISTS cross_table;\n",
    "\n",
    "SET @query = :cr_stmt;\n",
    "PREPARE stmt_name FROM @query;\n",
    "EXECUTE stmt_name;"
   ]
  },
  {
   "cell_type": "code",
   "execution_count": null,
   "metadata": {
    "collapsed": true
   },
   "outputs": [],
   "source": [
    "#RESUME HERE!!!!!!!!!!!!!!!!!!!!!!!!!!!!!!!!!!!!!!!!! fix this so it gives me a boolean vector in python\n",
    "# Dump sql table into python dataframe\n",
    "cross_table = %sql SELECT * FROM cross_table\n",
    "cross_table_df = cross_table.DataFrame()\n",
    "print(cross_table_df)"
   ]
  },
  {
   "cell_type": "code",
   "execution_count": 159,
   "metadata": {},
   "outputs": [
    {
     "name": "stdout",
     "output_type": "stream",
     "text": [
      "0     1981-04-18\n",
      "1     1981-04-18\n",
      "2     1981-04-18\n",
      "3     1981-04-18\n",
      "4     1981-04-18\n",
      "5     1981-04-18\n",
      "6     1981-04-18\n",
      "7     1972-05-29\n",
      "8     1972-05-29\n",
      "9     1972-05-29\n",
      "10    1972-05-29\n",
      "11    1972-05-29\n",
      "12    1972-05-29\n",
      "13    1972-05-29\n",
      "14    2012-05-20\n",
      "15    2012-05-20\n",
      "16    2012-05-20\n",
      "17    2012-05-20\n",
      "18    2012-05-20\n",
      "19    2012-05-20\n",
      "20    2012-05-20\n",
      "21    1986-04-29\n",
      "22    1986-04-29\n",
      "23    1986-04-29\n",
      "24    1986-04-29\n",
      "25    1986-04-29\n",
      "26    1986-04-29\n",
      "27    1986-04-29\n",
      "28    2010-12-30\n",
      "29    2010-12-30\n",
      "         ...    \n",
      "33    2010-12-30\n",
      "34    2010-12-30\n",
      "35    1977-02-24\n",
      "36    1977-02-24\n",
      "37    1977-02-24\n",
      "38    1977-02-24\n",
      "39    1977-02-24\n",
      "40    1977-02-24\n",
      "41    1977-02-24\n",
      "42    2013-09-02\n",
      "43    2013-09-02\n",
      "44    2013-09-02\n",
      "45    2013-09-02\n",
      "46    2013-09-02\n",
      "47    2013-09-02\n",
      "48    2013-09-02\n",
      "49    1976-10-23\n",
      "50    1976-10-23\n",
      "51    1976-10-23\n",
      "52    1976-10-23\n",
      "53    1976-10-23\n",
      "54    1976-10-23\n",
      "55    1976-10-23\n",
      "56    1978-09-01\n",
      "57    1978-09-01\n",
      "58    1978-09-01\n",
      "59    1978-09-01\n",
      "60    1978-09-01\n",
      "61    1978-09-01\n",
      "62    1978-09-01\n",
      "Name: date_of_birth, dtype: object\n",
      "0     1968-07-23\n",
      "1     1975-01-07\n",
      "2     1976-10-20\n",
      "3     1978-07-14\n",
      "4     1978-10-06\n",
      "5     1980-01-09\n",
      "6     1987-09-13\n",
      "7     1968-07-23\n",
      "8     1975-01-07\n",
      "9     1976-10-20\n",
      "10    1978-07-14\n",
      "11    1978-10-06\n",
      "12    1980-01-09\n",
      "13    1987-09-13\n",
      "14    1968-07-23\n",
      "15    1975-01-07\n",
      "16    1976-10-20\n",
      "17    1978-07-14\n",
      "18    1978-10-06\n",
      "19    1980-01-09\n",
      "20    1987-09-13\n",
      "21    1968-07-23\n",
      "22    1975-01-07\n",
      "23    1976-10-20\n",
      "24    1978-07-14\n",
      "25    1978-10-06\n",
      "26    1980-01-09\n",
      "27    1987-09-13\n",
      "28    1968-07-23\n",
      "29    1975-01-07\n",
      "         ...    \n",
      "33    1980-01-09\n",
      "34    1987-09-13\n",
      "35    1968-07-23\n",
      "36    1975-01-07\n",
      "37    1976-10-20\n",
      "38    1978-07-14\n",
      "39    1978-10-06\n",
      "40    1980-01-09\n",
      "41    1987-09-13\n",
      "42    1968-07-23\n",
      "43    1975-01-07\n",
      "44    1976-10-20\n",
      "45    1978-07-14\n",
      "46    1978-10-06\n",
      "47    1980-01-09\n",
      "48    1987-09-13\n",
      "49    1968-07-23\n",
      "50    1975-01-07\n",
      "51    1976-10-20\n",
      "52    1978-07-14\n",
      "53    1978-10-06\n",
      "54    1980-01-09\n",
      "55    1987-09-13\n",
      "56    1968-07-23\n",
      "57    1975-01-07\n",
      "58    1976-10-20\n",
      "59    1978-07-14\n",
      "60    1978-10-06\n",
      "61    1980-01-09\n",
      "62    1987-09-13\n",
      "Name: mothers_date_of_birth, dtype: object\n"
     ]
    }
   ],
   "source": [
    "print(cross_table_df[tableA_fields[0]])\n",
    "print(cross_table_df[tableB_fields[0]])"
   ]
  },
  {
   "cell_type": "code",
   "execution_count": 154,
   "metadata": {},
   "outputs": [
    {
     "name": "stdout",
     "output_type": "stream",
     "text": [
      "0     False\n",
      "1     False\n",
      "2     False\n",
      "3     False\n",
      "4     False\n",
      "5     False\n",
      "6     False\n",
      "7     False\n",
      "8     False\n",
      "9     False\n",
      "10    False\n",
      "11    False\n",
      "12    False\n",
      "13    False\n",
      "14    False\n",
      "15    False\n",
      "16    False\n",
      "17    False\n",
      "18    False\n",
      "19    False\n",
      "20    False\n",
      "21    False\n",
      "22    False\n",
      "23    False\n",
      "24    False\n",
      "25    False\n",
      "26    False\n",
      "27    False\n",
      "28    False\n",
      "29    False\n",
      "      ...  \n",
      "33    False\n",
      "34    False\n",
      "35    False\n",
      "36    False\n",
      "37    False\n",
      "38    False\n",
      "39    False\n",
      "40    False\n",
      "41    False\n",
      "42    False\n",
      "43    False\n",
      "44    False\n",
      "45    False\n",
      "46    False\n",
      "47    False\n",
      "48    False\n",
      "49    False\n",
      "50    False\n",
      "51    False\n",
      "52    False\n",
      "53    False\n",
      "54    False\n",
      "55    False\n",
      "56    False\n",
      "57    False\n",
      "58    False\n",
      "59    False\n",
      "60    False\n",
      "61    False\n",
      "62    False\n",
      "dtype: bool\n"
     ]
    }
   ],
   "source": [
    "print(cross_table_df[tableA_fields[0]]==cross_table_df[tableB_fields[0]])"
   ]
  },
  {
   "cell_type": "markdown",
   "metadata": {},
   "source": [
    "### Create random subsets from both tables\n",
    "Select X% of total data to estimate our probabilities"
   ]
  },
  {
   "cell_type": "code",
   "execution_count": 5,
   "metadata": {},
   "outputs": [
    {
     "name": "stdout",
     "output_type": "stream",
     "text": [
      "0 rows affected.\n",
      "0 rows affected.\n"
     ]
    },
    {
     "data": {
      "text/plain": [
       "[]"
      ]
     },
     "execution_count": 5,
     "metadata": {},
     "output_type": "execute_result"
    }
   ],
   "source": [
    "%%sql\n",
    "DROP TABLE pdd_samp;\n",
    "DROP TABLE bc_samp;"
   ]
  },
  {
   "cell_type": "code",
   "execution_count": 6,
   "metadata": {},
   "outputs": [
    {
     "name": "stdout",
     "output_type": "stream",
     "text": [
      "444 rows affected.\n",
      "643 rows affected.\n"
     ]
    },
    {
     "data": {
      "text/plain": [
       "[]"
      ]
     },
     "execution_count": 6,
     "metadata": {},
     "output_type": "execute_result"
    }
   ],
   "source": [
    "%%sql\n",
    "# Create sample PDD table (joined to deliveries table)\n",
    "CREATE TABLE pdd_samp \n",
    "SELECT p.*, d.delivered_on\n",
    "FROM (\n",
    "    SELECT *  \n",
    "    FROM patient_discharges) p\n",
    "JOIN deliveries d\n",
    "ON p.id=d.patient_discharge_id\n",
    "WHERE rand() <= .01;\n",
    "\n",
    "# Create sample BC table\n",
    "CREATE TABLE bc_samp \n",
    "SELECT *  \n",
    "FROM births b\n",
    "WHERE rand() <= .01;"
   ]
  },
  {
   "cell_type": "markdown",
   "metadata": {},
   "source": [
    "### Estimate u probability for each field"
   ]
  },
  {
   "cell_type": "code",
   "execution_count": 7,
   "metadata": {},
   "outputs": [
    {
     "name": "stdout",
     "output_type": "stream",
     "text": [
      "0 rows affected.\n",
      "0 rows affected.\n",
      "1 rows affected.\n",
      "0 rows affected.\n",
      "0 rows affected.\n",
      "0 rows affected.\n",
      "1 rows affected.\n",
      "0 rows affected.\n",
      "0 rows affected.\n",
      "0 rows affected.\n",
      "1 rows affected.\n",
      "0 rows affected.\n",
      "[23859.0, 33.0, 188.0]\n"
     ]
    }
   ],
   "source": [
    "# Loop through fields provided, and count number of exact matches from both tables\n",
    "match_count = []\n",
    "for fieldA, fieldB in zip(tableA_fields,tableB_fields):\n",
    "    %sql SET @query = CONCAT('SELECT COUNT(*) FROM ', :tableA, ' a CROSS JOIN ', :tableB, ' b ', 'WHERE a.', :fieldA, '=b.', :fieldB, ';');\n",
    "    %sql PREPARE stmt_name FROM @query;\n",
    "    result = %sql EXECUTE stmt_name;\n",
    "    match_count.append(float(result[0][0]))\n",
    "    %sql DEALLOCATE PREPARE stmt_name;\n",
    "print(match_count)"
   ]
  },
  {
   "cell_type": "code",
   "execution_count": 8,
   "metadata": {},
   "outputs": [
    {
     "name": "stdout",
     "output_type": "stream",
     "text": [
      "1 rows affected.\n",
      "+----------+\n",
      "| COUNT(*) |\n",
      "+----------+\n",
      "|  23859   |\n",
      "+----------+\n",
      "1 rows affected.\n",
      "+----------+\n",
      "| COUNT(*) |\n",
      "+----------+\n",
      "|    33    |\n",
      "+----------+\n",
      "1 rows affected.\n",
      "+----------+\n",
      "| COUNT(*) |\n",
      "+----------+\n",
      "|   188    |\n",
      "+----------+\n"
     ]
    }
   ],
   "source": [
    "# Double check loop output\n",
    "obs_pair_cnt = %sql SELECT COUNT(*) FROM pdd_samp p CROSS JOIN bc_samp b WHERE p.hospital_id = b.hospital_id;\n",
    "print(obs_pair_cnt)\n",
    "obs_pair_cnt = %sql SELECT COUNT(*) FROM pdd_samp p CROSS JOIN bc_samp b WHERE p.date_of_birth = b.mothers_date_of_birth;\n",
    "print(obs_pair_cnt)\n",
    "obs_pair_cnt = %sql SELECT COUNT(*) FROM pdd_samp p CROSS JOIN bc_samp b WHERE p.delivered_on = b.date_of_delivery;\n",
    "print(obs_pair_cnt)"
   ]
  },
  {
   "cell_type": "code",
   "execution_count": 9,
   "metadata": {},
   "outputs": [
    {
     "name": "stdout",
     "output_type": "stream",
     "text": [
      "1 rows affected.\n",
      "+-------------+\n",
      "| COUNT(p.id) |\n",
      "+-------------+\n",
      "|    240074   |\n",
      "+-------------+\n",
      "[0.09938185726067796, 0.00013745761723468598, 0.0007830918800036655]\n"
     ]
    }
   ],
   "source": [
    "# Find denominator (total number of possible pairs)\n",
    "tot_pair_cnt = %sql SELECT COUNT(p.id) FROM pdd_samp p CROSS JOIN bc_samp b;\n",
    "print(tot_pair_cnt)\n",
    "\n",
    "# Calculate match probability based on number of observations/total pairs\n",
    "u_probs = [x/tot_pair_cnt[0][0] for x in match_count]\n",
    "print(u_probs)\n",
    "\n",
    "# Set initial m probability values\n",
    "m_probs = [.9] * len(u_probs)"
   ]
  },
  {
   "cell_type": "code",
   "execution_count": 11,
   "metadata": {},
   "outputs": [
    {
     "data": {
      "text/plain": [
       "0.0027397260273972603"
      ]
     },
     "execution_count": 11,
     "metadata": {},
     "output_type": "execute_result"
    }
   ],
   "source": [
    "1.0/365"
   ]
  },
  {
   "cell_type": "code",
   "execution_count": 21,
   "metadata": {},
   "outputs": [
    {
     "data": {
      "text/plain": [
       "str"
      ]
     },
     "execution_count": 21,
     "metadata": {},
     "output_type": "execute_result"
    }
   ],
   "source": [
    "type(tableA_fields[0])"
   ]
  },
  {
   "cell_type": "code",
   "execution_count": null,
   "metadata": {
    "collapsed": true
   },
   "outputs": [],
   "source": []
  }
 ],
 "metadata": {
  "kernelspec": {
   "display_name": "Python 2",
   "language": "python",
   "name": "python2"
  },
  "language_info": {
   "codemirror_mode": {
    "name": "ipython",
    "version": 2
   },
   "file_extension": ".py",
   "mimetype": "text/x-python",
   "name": "python",
   "nbconvert_exporter": "python",
   "pygments_lexer": "ipython2",
   "version": "2.7.12"
  }
 },
 "nbformat": 4,
 "nbformat_minor": 2
}
