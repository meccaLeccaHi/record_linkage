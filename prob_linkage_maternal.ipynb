{
 "cells": [
  {
   "cell_type": "code",
   "execution_count": 1,
   "metadata": {},
   "outputs": [
    {
     "data": {
      "text/plain": [
       "u'Connected: root@current'"
      ]
     },
     "execution_count": 1,
     "metadata": {},
     "output_type": "execute_result"
    }
   ],
   "source": [
    "# Load sql magic extension\n",
    "%load_ext sql\n",
    "# Connect to database\n",
    "%sql mysql://root@127.0.0.1/current\n",
    "# Import python modules\n",
    "import numpy as np\n",
    "import pandas as pd"
   ]
  },
  {
   "cell_type": "markdown",
   "metadata": {},
   "source": [
    "### Define functions"
   ]
  },
  {
   "cell_type": "code",
   "execution_count": 36,
   "metadata": {},
   "outputs": [],
   "source": [
    "def exec_statement(string):\n",
    "    ''' Accepts a string and executes it as a sql command '''\n",
    "    %sql SET @query = :string;\n",
    "    %sql PREPARE stmt FROM @query;\n",
    "    return_val = %sql EXECUTE stmt;\n",
    "    %sql DEALLOCATE PREPARE stmt;\n",
    "    return return_val\n",
    "\n",
    "\n",
    "def df_crossjoin(df1, df2, **kwargs):\n",
    "    ''' Cross (or Cartesian)-joins two pandas dataframes '''\n",
    "    df1['_tmpkey'] = 1\n",
    "    df2['_tmpkey'] = 1\n",
    "\n",
    "    res = pd.merge(df1, df2, on='_tmpkey', **kwargs).drop('_tmpkey', axis=1)\n",
    "    res.index = pd.MultiIndex.from_product((df1.index, df2.index))\n",
    "\n",
    "    df1.drop('_tmpkey', axis=1, inplace=True)\n",
    "    df2.drop('_tmpkey', axis=1, inplace=True)\n",
    "\n",
    "    return res"
   ]
  },
  {
   "cell_type": "markdown",
   "metadata": {},
   "source": [
    "### Define linking variables"
   ]
  },
  {
   "cell_type": "code",
   "execution_count": 3,
   "metadata": {
    "collapsed": true
   },
   "outputs": [],
   "source": [
    "tableA = 'patient_discharges'\n",
    "tableB = 'births'"
   ]
  },
  {
   "cell_type": "markdown",
   "metadata": {},
   "source": [
    "Define fields to compare tables by"
   ]
  },
  {
   "cell_type": "code",
   "execution_count": 4,
   "metadata": {
    "collapsed": true
   },
   "outputs": [],
   "source": [
    "tableA_fields = ['date_of_birth'] #pdd table\n",
    "tableB_fields = ['mothers_date_of_birth'] #bc table\n",
    "\n",
    "#comparisons = [\n",
    "#    \"date_of_birth = mothers_date_of_birth\",\n",
    "#    \"delivered_on = date_of_delivery\"\n",
    "#]"
   ]
  },
  {
   "cell_type": "markdown",
   "metadata": {},
   "source": [
    "Define field(s) to block by"
   ]
  },
  {
   "cell_type": "code",
   "execution_count": 5,
   "metadata": {
    "collapsed": true
   },
   "outputs": [],
   "source": [
    "tableA_blocks = ['hospital_id','delivered_on']\n",
    "tableB_blocks = ['hospital_id','date_of_delivery']"
   ]
  },
  {
   "cell_type": "markdown",
   "metadata": {},
   "source": [
    "### Blocking\n",
    "Find all possible values for 1st blocking field ('hospital_id')"
   ]
  },
  {
   "cell_type": "code",
   "execution_count": 7,
   "metadata": {},
   "outputs": [
    {
     "name": "stdout",
     "output_type": "stream",
     "text": [
      "0 rows affected.\n",
      "0 rows affected.\n",
      "12 rows affected.\n",
      "0 rows affected.\n",
      "+------+\n",
      "| blks |\n",
      "+------+\n",
      "|  1   |\n",
      "|  2   |\n",
      "|  3   |\n",
      "|  4   |\n",
      "|  6   |\n",
      "|  7   |\n",
      "|  8   |\n",
      "|  9   |\n",
      "|  10  |\n",
      "|  11  |\n",
      "|  12  |\n",
      "|  13  |\n",
      "+------+\n"
     ]
    }
   ],
   "source": [
    "bl_stmt = 'SELECT T.blks FROM (' + \\\n",
    "'SELECT DISTINCT ' + tableA_blocks[0] + ' AS blks ' \\\n",
    "'FROM ' +  tableA + ' UNION ' + \\\n",
    "'SELECT DISTINCT ' + tableB_blocks[0] + ' AS blks ' \\\n",
    "'FROM ' +  tableB + ') as T ORDER BY blks;'\n",
    "\n",
    "block_list1 = exec_statement(bl_stmt);"
   ]
  },
  {
   "cell_type": "markdown",
   "metadata": {},
   "source": [
    "Find all possible values for 2nd blocking field (delivery date)"
   ]
  },
  {
   "cell_type": "code",
   "execution_count": 8,
   "metadata": {},
   "outputs": [
    {
     "name": "stdout",
     "output_type": "stream",
     "text": [
      "0 rows affected.\n",
      "0 rows affected.\n",
      "1554 rows affected.\n",
      "0 rows affected.\n"
     ]
    }
   ],
   "source": [
    "bl_stmt = 'SELECT DISTINCT ' + tableB_blocks[1] + \\\n",
    "' FROM ' +  tableB + ' ORDER BY ' + tableB_blocks[1] + ';'\n",
    "\n",
    "block_list2 = exec_statement(bl_stmt);"
   ]
  },
  {
   "cell_type": "code",
   "execution_count": 41,
   "metadata": {
    "collapsed": true
   },
   "outputs": [],
   "source": [
    "linked_match_count = [0]*len(tableA_fields)\n",
    "match_count = [0]*len(tableA_fields)\n",
    "pair_count = 0"
   ]
  },
  {
   "cell_type": "markdown",
   "metadata": {},
   "source": [
    "### Craft each block"
   ]
  },
  {
   "cell_type": "code",
   "execution_count": 42,
   "metadata": {},
   "outputs": [
    {
     "name": "stdout",
     "output_type": "stream",
     "text": [
      "SELECT date_of_birth FROM patient_discharges a JOIN deliveries b ON a.id=b.patient_discharge_id WHERE a.hospital_id='1'AND a.admitted_on<'2012-05-11'AND a.discharged_on>'2012-05-11';\n",
      "\n",
      "SELECT mothers_date_of_birth FROM births b WHERE b.hospital_id='1'AND b.date_of_delivery='2012-05-11';\n",
      "0 rows affected.\n",
      "0 rows affected.\n",
      "17 rows affected.\n",
      "0 rows affected.\n",
      "0 rows affected.\n",
      "0 rows affected.\n",
      "10 rows affected.\n",
      "0 rows affected.\n"
     ]
    }
   ],
   "source": [
    "stmt1 = 'SELECT ' + \",\".join(tableA_fields) + ' FROM ' + tableA + ' a ' + \\\n",
    "'JOIN deliveries b ON a.id=b.patient_discharge_id ' + \\\n",
    "'WHERE a.' + tableA_blocks[0] + '=' + repr(str(block_list1[0][0])) + \\\n",
    "'AND a.admitted_on<' + repr(str(block_list2[500][0])) + \\\n",
    "'AND a.discharged_on>' + repr(str(block_list2[500][0])) + ';'\n",
    "print(stmt1)\n",
    "stmt2 = 'SELECT ' + \",\".join(tableB_fields) + ' FROM ' + tableB + ' b ' + \\\n",
    "'WHERE b.' + tableB_blocks[0] + '=' + repr(str(block_list1[0][0])) + \\\n",
    "'AND b.' + tableB_blocks[1] + '=' + repr(str(block_list2[500][0])) + ';'\n",
    "print('\\n' + stmt2)\n",
    "blockA = exec_statement(stmt1)\n",
    "blockA_df = blockA.DataFrame()\n",
    "blockB = exec_statement(stmt2)\n",
    "blockB_df = blockB.DataFrame()"
   ]
  },
  {
   "cell_type": "markdown",
   "metadata": {},
   "source": [
    "### Cross join fields-of-interest from both blocks"
   ]
  },
  {
   "cell_type": "code",
   "execution_count": 43,
   "metadata": {},
   "outputs": [],
   "source": [
    "cross_table = df_crossjoin(blockA_df, blockB_df)\n",
    "\n",
    "# Count field matches and dump each into new column of dataframe\n",
    "bool_table = pd.DataFrame(columns=tableA_fields)\n",
    "for index,(fieldA, fieldB) in enumerate(zip(tableA_fields,tableB_fields)):\n",
    "    bool_table[fieldA] = np.where(cross_table[fieldA]==cross_table[fieldB],1,0)\n",
    "\n",
    "match_count += bool_table.sum()\n",
    "pair_count += bool_table.count()[0]"
   ]
  },
  {
   "cell_type": "code",
   "execution_count": 34,
   "metadata": {},
   "outputs": [
    {
     "data": {
      "text/plain": [
       "array([0, 0, 0, 0, 0, 0, 0, 0, 0, 0, 0, 0, 0, 0, 0, 0, 0, 0, 0, 0, 0, 0, 0,\n",
       "       0, 0, 0, 0, 0, 0, 0, 0, 0, 0, 0, 0, 0, 0, 0, 0, 0, 0, 0, 0, 0, 0, 0,\n",
       "       0, 0, 0, 0, 0, 0, 0, 0, 0, 0, 0, 0, 0, 0, 0, 0, 0, 0, 0, 0, 0, 0, 0,\n",
       "       0, 0, 0, 0, 0, 0, 0, 0, 0, 0, 0, 0, 0, 0, 0, 0, 0, 0, 0, 0, 0, 0, 0,\n",
       "       0, 0, 0, 0, 0, 0, 1, 0, 0, 0, 0, 0, 0, 0, 0, 0, 0, 1, 0, 0, 0, 0, 0,\n",
       "       0, 0, 0, 0, 0, 0, 0, 0, 0, 0, 0, 0, 0, 0, 0, 0, 0, 0, 0, 0, 0, 0, 0,\n",
       "       0, 0, 0, 0, 0, 1, 0, 0, 0, 0, 0, 0, 0, 0, 0, 0, 0, 0, 0, 0, 0, 0, 0,\n",
       "       0, 0, 0, 0, 0, 0, 0, 0, 0])"
      ]
     },
     "execution_count": 34,
     "metadata": {},
     "output_type": "execute_result"
    }
   ],
   "source": [
    "np.where(cross_table[tableA_fields[0]]==cross_table[tableB_fields[0]],1,0)"
   ]
  }
 ],
 "metadata": {
  "kernelspec": {
   "display_name": "Python 2",
   "language": "python",
   "name": "python2"
  },
  "language_info": {
   "codemirror_mode": {
    "name": "ipython",
    "version": 2
   },
   "file_extension": ".py",
   "mimetype": "text/x-python",
   "name": "python",
   "nbconvert_exporter": "python",
   "pygments_lexer": "ipython2",
   "version": "2.7.12"
  }
 },
 "nbformat": 4,
 "nbformat_minor": 2
}
