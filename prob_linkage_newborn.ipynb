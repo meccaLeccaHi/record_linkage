{
 "cells": [
  {
   "cell_type": "code",
   "execution_count": 1,
   "metadata": {
    "collapsed": true,
    "scrolled": true
   },
   "outputs": [],
   "source": [
    "%matplotlib inline\n",
    "\n",
    "# Import python modules\n",
    "import matplotlib.pyplot as plt\n",
    "import numpy as np\n",
    "import pandas as pd\n",
    "import time\n",
    "import sys\n",
    "\n",
    "import itable\n",
    "\n",
    "from linkage_tools import *\n",
    "from Probabilistic import *\n",
    "from Perceptron import *\n",
    "\n",
    "from NeuralNetwork import *\n",
    "\n",
    "l = Linker()\n",
    "\n",
    "#import warnings\n",
    "#warnings.filterwarnings('error')\n",
    "\n",
    "verbose = True"
   ]
  },
  {
   "cell_type": "markdown",
   "metadata": {},
   "source": [
    "### Define linking variables"
   ]
  },
  {
   "cell_type": "code",
   "execution_count": 2,
   "metadata": {
    "collapsed": true
   },
   "outputs": [],
   "source": [
    "# Define tables\n",
    "tableA = '''patient_discharges JOIN newborns\n",
    "ON patient_discharges.id = newborns.patient_discharge_id\n",
    "LEFT OUTER JOIN patient_payers AS newborn_payers\n",
    "ON newborn_payers.patient_discharge_id = patient_discharges.id'''\n",
    "\n",
    "tableB = '''births JOIN deliveries \n",
    "ON births.delivery_id = deliveries.id\n",
    "JOIN patient_discharges AS delivery_discharges\n",
    "ON deliveries.patient_discharge_id = delivery_discharges.id\n",
    "LEFT OUTER JOIN patient_payers AS delivery_payers\n",
    "ON delivery_payers.patient_discharge_id = delivery_discharges.id'''\n",
    "\n",
    "# Define fields to compare tables by\n",
    "tableA_fields = ['patient_discharges.sex_id','newborns.id','newborns.cesarean_section', \n",
    "            'patient_discharges.zip_code','patient_discharges.race_id','patient_discharges.ethnicity_id', \n",
    "                'newborn_payers.payer_type_of_coverage_id','patient_discharges.principal_language_spoken', \n",
    "                 'patient_discharges.discharged_on','newborn_payers.payer_category_id',\n",
    "                 'newborn_payers.plan_code_number','newborns.birth_weight_group_id',\n",
    "                 'newborns.gestational_age_group_id','newborns.plurality_group_id']\n",
    "\n",
    "tableB_fields = ['births.sex_id','births.newborn_id','births.delivery_route_id', \n",
    "            'births.mothers_residence_zip_code','delivery_discharges.race_id','delivery_discharges.ethnicity_id', \n",
    "                'delivery_payers.payer_type_of_coverage_id','delivery_discharges.principal_language_spoken', \n",
    "                 'delivery_discharges.discharged_on','delivery_payers.payer_category_id',\n",
    "                 'delivery_payers.plan_code_number','births.birth_weight',\n",
    "                 'births.gestational_age_ob_estimate','births.plurality'] \n",
    "\n",
    "feature_vals = ['sex_id','c_section','zip_code','race','ethnicity','payer_type_of_coverage_id',\n",
    "                'language_spoken','discharge','payer_category_id','plan_code_number','weight_group_id',\n",
    "                'gest_age_group_id','plurality','weight_plus','weight_minus','gest_age_plus','gest_age_minus']\n",
    "\n",
    "# Define bins to use for certain fields\n",
    "age_bins = np.concatenate(([1,24], np.arange(25, 36, 2),[99]), axis=0)\n",
    "bw_bins = np.concatenate(([1], np.arange(500, 2001, 250),[2500,9999]), axis=0)\n",
    "\n",
    "cesarean_ids = [1, 11, 21, 31, 2, 12, 22, 32]\n",
    "    \n",
    "# Define conditions (expressions) on which to compare fields\n",
    "conditions = [  \"cross_table['sex_id_x']==cross_table['sex_id_y']\",\n",
    "                \"cross_table['cesarean_section']==[x in cesarean_ids for x in cross_table['delivery_route_id']]\",\n",
    "                \"cross_table['zip_code']==cross_table['mothers_residence_zip_code']\",\n",
    "                \"cross_table['race_id_x']==cross_table['race_id_y']\",\n",
    "                \"cross_table['ethnicity_id_x']==cross_table['ethnicity_id_y']\",\n",
    "                \"cross_table['payer_type_of_coverage_id_x']==cross_table['payer_type_of_coverage_id_y']\",\n",
    "                \"cross_table['principal_language_spoken_x']==cross_table['principal_language_spoken_y']\",\n",
    "                \"cross_table['discharged_on_x']==cross_table['discharged_on_y']\",\n",
    "                \"cross_table['payer_category_id_x']==cross_table['payer_category_id_y']\",\n",
    "                \"cross_table['plan_code_number_x']==cross_table['plan_code_number_y']\",\n",
    "                \"cross_table['birth_weight_group_id']==np.digitize(list(cross_table['birth_weight']),bw_bins)\",\n",
    "                \"cross_table['gestational_age_group_id']==np.digitize(list(cross_table['gestational_age_ob_estimate']/7),age_bins)+1\",\n",
    "                \"(cross_table['plurality_group_id']==1)==(cross_table['plurality']==1)\",\n",
    "                \"cross_table['birth_weight_group_id']==np.digitize(list(cross_table['birth_weight']),bw_bins)+1\",\n",
    "                \"cross_table['birth_weight_group_id']==np.digitize(list(cross_table['birth_weight']),bw_bins)-1\",\n",
    "                \"cross_table['gestational_age_group_id']==np.digitize(list(cross_table['gestational_age_ob_estimate']),age_bins)+2\",\n",
    "                \"cross_table['gestational_age_group_id']==np.digitize(list(cross_table['gestational_age_ob_estimate']),age_bins)\"  ] \n",
    "\n",
    "simple_features = feature_vals[0:13]\n",
    "complex_features = feature_vals[13:]"
   ]
  },
  {
   "cell_type": "markdown",
   "metadata": {},
   "source": [
    "### Blocking"
   ]
  },
  {
   "cell_type": "code",
   "execution_count": 3,
   "metadata": {
    "collapsed": true
   },
   "outputs": [],
   "source": [
    "# Find all possible values for 1st blocking field ('hospital_id')\n",
    "stmt = '''\n",
    "SELECT DISTINCT patient_discharges.hospital_id\n",
    "FROM patient_discharges \n",
    "UNION\n",
    "SELECT DISTINCT births.hospital_id\n",
    "FROM births;'''\n",
    "block_list1 = [x[0] for x in l.exec_sql(stmt).values.tolist()]\n",
    "\n",
    "block_list1 = block_list1[0:1]\n",
    "\n",
    "# Find all possible values for 2nd blocking field ('date_of_delivery')\n",
    "stmt = '''\n",
    "SELECT DISTINCT births.date_of_delivery\n",
    "FROM births;'''\n",
    "block_list2 = [x[0] for x in l.exec_sql(stmt).values.tolist()]\n",
    "\n",
    "block_list2 = block_list2[600:650]\n",
    "\n",
    "block_prod = [(str(x),str(y)) for x in block_list1 for y in block_list2]\n",
    "\n",
    "# Assign strings to select each block\n",
    "blocking_stmt1 = '''\n",
    "        SELECT patient_discharges.id AS pdd_id, newborns.id AS newb_id,%s \n",
    "        FROM %s\n",
    "        WHERE patient_discharges.hospital_id = %r\n",
    "        AND patient_discharges.date_of_birth = %r;\n",
    "        '''\n",
    "blocking_stmt2 = '''\n",
    "        SELECT births.id AS bc_id,%s\n",
    "        FROM %s\n",
    "        WHERE births.hospital_id = %r\n",
    "        AND births.date_of_delivery = %r;\n",
    "        '''"
   ]
  },
  {
   "cell_type": "markdown",
   "metadata": {},
   "source": [
    "### Create classifiers and iterate over each block\n",
    "- Create [probabilistic] and [perceptron] classifier (train each on selected subset of features ['simple' vs. 'complex'])\n",
    "- Loop over each block and convert to pandas dataframe\n",
    "- Cross join the features-of-interest from both blocks\n",
    "- Apply conditional statements to each column of dataframe\n",
    "- Return match score from each learner\n",
    "- Maximize pairing with Kuhn-Munkres (i.e. Hungarian) Algorithm [more info]\n",
    "- Compare guesses to truth, update weights/probabilities\n",
    "\n",
    "[more info]: https://pypi.python.org/pypi/munkres/\n",
    "[perceptron]: http://glowingpython.blogspot.com/2011/10/perceptron.html\n",
    "[probabilistic]: https://www.ncbi.nlm.nih.gov/pmc/articles/PMC5005943/"
   ]
  },
  {
   "cell_type": "code",
   "execution_count": 5,
   "metadata": {
    "scrolled": true
   },
   "outputs": [
    {
     "name": "stdout",
     "output_type": "stream",
     "text": [
      "Epoch #1, blockA: 12 records, blockB: 12 records  \n",
      "Average block duration: 0.17 seconds\n",
      "'Quality': [108.27, 100.76, 44.61, 43.73, 42.26]\n",
      "% correct: [99.7755, 99.7755, 89.3851, 89.41, 27.9094]\n",
      "Average epoch duration: 0.322 minutes\n",
      "Epoch #2, blockA: 12 records, blockB: 12 records  \n",
      "Average block duration: 0.16 seconds\n",
      "'Quality': [124.87, 124.38, 123.41, 120.83, 101.54]\n",
      "% correct: [99.8753, 99.8503, 99.8004, 99.8254, 98.2724]\n",
      "Average epoch duration: 0.309 minutes\n",
      "Epoch #3, blockA: 12 records, blockB: 12 records  \n",
      "Average block duration: 0.16 seconds\n",
      "'Quality': [124.87, 124.38, 123.41, 127.87, 112.21]\n",
      "% correct: [99.8753, 99.8503, 99.8004, 99.8254, 98.2849]\n",
      "Average epoch duration: 0.308 minutes\n",
      "Epoch #4, blockA: 12 records, blockB: 12 records  \n",
      "Average block duration: 0.15 seconds\n",
      "'Quality': [124.87, 124.38, 123.41, 121.51, 115.51]\n",
      "% correct: [99.8753, 99.8503, 99.8004, 99.8254, 98.4969]\n",
      "Average epoch duration: 0.303 minutes\n",
      "Epoch #5, blockA: 12 records, blockB: 12 records  \n",
      "Average block duration: 0.15 seconds\n",
      "'Quality': [124.87, 124.38, 123.41, 121.51, 119.01]\n",
      "% correct: [99.8753, 99.8503, 99.8004, 99.8254, 98.6404]\n",
      "Average epoch duration: 0.301 minutes\n",
      "Epoch #6, blockA: 12 records, blockB: 12 records  \n",
      "Average block duration: 0.15 seconds\n",
      "'Quality': [124.87, 124.38, 123.41, 121.51, 122.56]\n",
      "% correct: [99.8753, 99.8503, 99.8004, 99.8254, 98.6342]\n",
      "Average epoch duration: 0.302 minutes\n",
      "Epoch #7, blockA: 12 records, blockB: 12 records  \n",
      "Average block duration: 0.15 seconds\n",
      "'Quality': [124.87, 124.38, 123.41, 121.51, 123.61]\n",
      "% correct: [99.8753, 99.8503, 99.8004, 99.8254, 98.6778]\n",
      "Average epoch duration: 0.303 minutes\n",
      "Epoch #8, blockA: 12 records, blockB: 12 records  \n",
      "Average block duration: 0.15 seconds\n",
      "'Quality': [124.87, 124.38, 123.41, 121.51, 123.71]\n",
      "% correct: [99.8753, 99.8503, 99.8004, 99.8254, 98.7901]\n",
      "Average epoch duration: 0.306 minutes\n",
      "Epoch #9, blockA: 12 records, blockB: 12 records  \n",
      "Average block duration: 0.15 seconds\n",
      "'Quality': [124.87, 124.38, 123.41, 121.51, 123.82]\n",
      "% correct: [99.8753, 99.8503, 99.8004, 99.8254, 98.7838]\n",
      "Average epoch duration: 0.308 minutes\n",
      "Epoch #10, blockA: 12 records, blockB: 12 records  \n",
      "Average block duration: 0.15 seconds\n",
      "'Quality': [124.87, 124.38, 123.41, 121.51, 130.42]\n",
      "% correct: [99.8753, 99.8503, 99.8004, 99.8254, 98.7838]\n",
      "Average epoch duration: 0.307 minutes\n",
      "Epoch #11, blockA: 12 records, blockB: 12 records  \n",
      "'Quality' achieved! @ [124.87, 124.38, 123.41, 121.51, 124.22]\n"
     ]
    }
   ],
   "source": [
    "learning_rate = 0.005 # small, constant learning rate for perceptron\n",
    "\n",
    "# Create instances of classifiers\n",
    "pr_simple = Probabilistic(len(simple_features)) # probabilistic linkage (simple features only)\n",
    "pr_complex = Probabilistic(len(conditions)) # probabilistic linkage (all features)\n",
    "\n",
    "pt_simple = Perceptron(len(simple_features),learning_rate) # single-layer perceptron (simple features only)\n",
    "pt_complex = Perceptron(len(conditions),learning_rate) # single-layer perceptron (all features)\n",
    "\n",
    "learning_rate = 0.1\n",
    "nn_complex = NeuralNetwork(len(conditions),10,1,learning_rate) # multi-layer neural network\n",
    "\n",
    "classifiers = ['pr_simple','pr_complex','pt_simple','pt_complex','nn_complex']\n",
    "classifier_features = [simple_features,feature_vals,simple_features,feature_vals,feature_vals]\n",
    "class_prog = [True] * len(classifiers)\n",
    "\n",
    "iter_qual_list = []\n",
    "iter_score_list = []\n",
    "block_duration = []\n",
    "epoch_duration = []\n",
    "epoch_count = 0\n",
    "verb_str = '\\rEpoch #{}, blockA: {} records, blockB: {} records  ' # verbose output\n",
    "\n",
    "while True:\n",
    "    epoch_start = time.time() # Measure epoch duration\n",
    "    big_bool = pd.DataFrame(columns=feature_vals)  \n",
    "\n",
    "    for block1, block2 in block_prod:\n",
    "        \n",
    "        block_start = time.time() # Measure block duration\n",
    "\n",
    "        # Create blocks\n",
    "        blockA = l.exec_sql(blocking_stmt1 % (\",\".join(tableA_fields),tableA,block1,block2))\n",
    "        blockB = l.exec_sql(blocking_stmt2 % (\",\".join(tableB_fields),tableB,block1,block2))\n",
    "        \n",
    "        if verbose:\n",
    "            sys.stdout.write(verb_str.format(epoch_count+1, len(blockA), len(blockB)))\n",
    "            sys.stdout.flush()\n",
    "        # Check that neither block is empty - If empty, skip to next record-pair in loop\n",
    "        if (len(blockA)==0) or (len(blockB)==0):\n",
    "            continue\n",
    "\n",
    "        # Cross-join both blocks\n",
    "        cross_table = l.df_crossjoin(blockA, blockB)\n",
    "\n",
    "        # Count field matches and dump each into new column of dataframe\n",
    "        bool_table = pd.DataFrame.from_items(zip(feature_vals,[eval(x).values for x in conditions]))\n",
    "\n",
    "        # Add record-id columns to boolean table\n",
    "        bool_table['newb_id'] = cross_table['newb_id'].values # Actual newborn id\n",
    "        bool_table['bc_id'] = cross_table['bc_id'].values  # Actual bc id\n",
    "        bool_table['prev_newb_id'] = cross_table['newborn_id'].values # Originally matched newborn id \n",
    "        \n",
    "        # Compare with previously-linked newborn id\n",
    "        bool_table['real_match'] = (cross_table['newborn_id']==cross_table['newb_id']).values \n",
    "        for x in classifiers:\n",
    "            bool_table['match_'+x] = False # Create new columns for later\n",
    "        \n",
    "        # Get guesses from classifiers\n",
    "        record_id = bool_table[['newb_id','bc_id']]\n",
    "        for x,y in zip(classifiers,classifier_features):\n",
    "            link_inds,link_score = eval(x).query(bool_table[y],record_id) \n",
    "            bool_table['lscore_'+x] = link_score\n",
    "            bool_table.loc[link_inds,'match_'+x] = True # Label nominees as such  \n",
    "        \n",
    "        # Aggregate field-match tables (Booleans) within loop\n",
    "        big_bool = pd.concat([big_bool,bool_table])\n",
    "    \n",
    "        # Time duration of each block\n",
    "        block_duration.append(time.time()-block_start)\n",
    "        \n",
    "    mark = int(round(len(big_bool)*.9))\n",
    "    \n",
    "    #train_data = big_bool.iloc[0:mark]\n",
    "    #test_data = big_bool.iloc[mark:]\n",
    "\n",
    "    # Train probabilistic classifiers\n",
    "    if class_prog[classifiers.index('pr_simple')]: # If still progressing...\n",
    "        pr_simple.train(big_bool[simple_features],big_bool['real_match'])\n",
    "    if class_prog[classifiers.index('pr_complex')]:\n",
    "        pr_complex.train(big_bool[feature_vals],big_bool['real_match'])\n",
    "        \n",
    "    # Train perceptron classifiers\n",
    "    if class_prog[classifiers.index('pt_simple')]:\n",
    "        pt_simple.train(big_bool[simple_features],big_bool['real_match'],big_bool['match_pt_simple'])\n",
    "    if class_prog[classifiers.index('pt_complex')]:\n",
    "        pt_complex.train(big_bool[feature_vals],big_bool['real_match'],big_bool['match_pt_complex'])\n",
    "\n",
    "    # Train neural network classifiers\n",
    "    if class_prog[classifiers.index('nn_complex')]:\n",
    "        nn_complex.train(big_bool[feature_vals],big_bool['real_match'],big_bool['match_nn_complex'])\n",
    "    \n",
    "    # Measure accuracy of each classifier\n",
    "    score_list = [((big_bool['match_'+x]==big_bool['real_match'])*1).tolist() for x in classifiers]\n",
    "    cur_scores = [sum(x)*100.0/len(x) for x in score_list]\n",
    "    iter_score_list.append(cur_scores)\n",
    "    \n",
    "    # Set range of linkage scores (0 through 100 percentiles) i.e. decision threshold (theta)\n",
    "    set_thetas = range(0,100,10)\n",
    "    \n",
    "    # Update precision & recall of classifiers\n",
    "    for x in classifiers:\n",
    "        eval(x).prec_recall(big_bool['lscore_'+x],set_thetas,big_bool['real_match'])\n",
    "    \n",
    "    # Compare current iteration 'quality' with previous iterations\n",
    "    cur_iter_qual = [eval(x).iter_qual_list[-1] for x in classifiers]\n",
    "    prev_iter_qual = [eval(x).iter_qual_list[-2] for x in classifiers]\n",
    "    class_prog = np.subtract(cur_iter_qual,prev_iter_qual)>.1\n",
    "    iter_qual_list.append(cur_iter_qual)\n",
    "    \n",
    "    # If not improving > Break from outer loop\n",
    "    if not any(class_prog):\n",
    "        print str.format('\\n'+'-'*80+\"\\n'Quality' achieved! @ {}\",[ float('%.2f' % x) for x in cur_iter_qual ])        \n",
    "        # ADD READ-OUT OF 'WRONG' MATCHES HERE!!!!!\n",
    "        # MAYBE USE cur_scores?\n",
    "        break\n",
    "\n",
    "    # Time duration of each iteration\n",
    "    epoch_duration.append(time.time()-epoch_start)\n",
    "    \n",
    "    epoch_count += 1 # Increment epoch counter\n",
    "    \n",
    "    if verbose:\n",
    "        print str.format('\\nAverage block duration: {0:.2f} seconds', np.mean(block_duration))\n",
    "        print str.format(\"'Quality': {}\", [ float('%.2f' % x) for x in cur_iter_qual ])\n",
    "        print str.format('% correct: {}', [ float('%.4f' % x) for x in cur_scores ])\n",
    "        print str.format('Average epoch duration: {0:.3f} minutes', np.mean(epoch_duration)/60.0)"
   ]
  },
  {
   "cell_type": "code",
   "execution_count": null,
   "metadata": {},
   "outputs": [],
   "source": []
  },
  {
   "cell_type": "code",
   "execution_count": 30,
   "metadata": {},
   "outputs": [
    {
     "name": "stdout",
     "output_type": "stream",
     "text": [
      "0     None\n",
      "1     None\n",
      "2     None\n",
      "3     None\n",
      "4     None\n",
      "5     None\n",
      "6     None\n",
      "7     None\n",
      "8     None\n",
      "9     None\n",
      "10    None\n",
      "11    None\n",
      "Name: payer_type_of_coverage_id_x, dtype: object\n"
     ]
    }
   ],
   "source": [
    "### if None in blockA ---------RESUME HERE!!!!! \n",
    "cross_table['payer_type_of_coverage_id_x']==cross_table['payer_type_of_coverage_id_y']\n",
    "# payer_type_of_coverage_id_x\n",
    "print(cross_table['payer_type_of_coverage_id_x'][0])"
   ]
  },
  {
   "cell_type": "code",
   "execution_count": 35,
   "metadata": {},
   "outputs": [
    {
     "name": "stdout",
     "output_type": "stream",
     "text": [
      "     bc_id c_section discharge ethnicity gest_age_group_id gest_age_minus  \\\n",
      "314  33776      True      True      True             False          False   \n",
      "254  33776      True      True      True             False          False   \n",
      "256  33779      True      True      True             False          False   \n",
      "316  33779      True      True      True             False          False   \n",
      "10   34011      True      True      True             False          False   \n",
      "62   34011      True      True      True             False          False   \n",
      "63   34013      True      True      True             False          False   \n",
      "11   34013      True      True      True             False          False   \n",
      "149  34178      True      True      True             False          False   \n",
      "110  34178      True      True      True             False          False   \n",
      "116  34200      True      True      True             False          False   \n",
      "155  34200      True      True      True             False          False   \n",
      "44   34583      True      True      True             False          False   \n",
      "86   34583      True      True      True             False          False   \n",
      "96   34598      True      True      True             False          False   \n",
      "54   34598      True      True      True             False          False   \n",
      "242  34821      True      True      True             False          False   \n",
      "261  34821      True      True      True             False          False   \n",
      "262  34822      True      True      True             False          False   \n",
      "243  34822      True      True      True             False          False   \n",
      "\n",
      "    gest_age_plus language_spoken  lscore_nn_complex  lscore_pr_complex  \\\n",
      "314         False            True           0.931909           8.978782   \n",
      "254         False            True           0.931909           8.978782   \n",
      "256         False           False           0.865229           6.354515   \n",
      "316         False           False           0.865229           6.354515   \n",
      "10          False            True           0.383910           2.753107   \n",
      "62          False           False           0.777738           4.578798   \n",
      "63          False           False           0.777738           4.578798   \n",
      "11          False            True           0.349178           5.504266   \n",
      "149         False            True           0.931909           8.978782   \n",
      "110         False            True           0.931909           8.978782   \n",
      "116         False            True           0.931909           8.978782   \n",
      "155         False            True           0.931909           8.978782   \n",
      "44          False            True           0.931909           8.978782   \n",
      "86          False            True           0.931909           8.978782   \n",
      "96          False            True           0.931909           8.978782   \n",
      "54          False            True           0.931909           8.978782   \n",
      "242         False            True           0.886343           7.366823   \n",
      "261         False            True           0.886343           7.366823   \n",
      "262         False            True           0.941911           9.954225   \n",
      "243         False            True           0.941911           9.954225   \n",
      "\n",
      "      ...     plan_code_number plurality prev_newb_id   race real_match  \\\n",
      "314   ...                False      True        11606   True       True   \n",
      "254   ...                False      True        11606   True      False   \n",
      "256   ...                False      True         1404   True       True   \n",
      "316   ...                False      True         1404   True      False   \n",
      "10    ...                False      True         1898  False       True   \n",
      "62    ...                False      True         1898  False      False   \n",
      "63    ...                False      True        12127  False       True   \n",
      "11    ...                False      True        12127   True      False   \n",
      "149   ...                False      True        19323   True       True   \n",
      "110   ...                False      True        19323   True      False   \n",
      "116   ...                False      True         5376   True       True   \n",
      "155   ...                False      True         5376   True      False   \n",
      "44    ...                False      True         2591   True       True   \n",
      "86    ...                False      True         2591   True      False   \n",
      "96    ...                False      True        11463   True       True   \n",
      "54    ...                False      True        11463   True      False   \n",
      "242   ...                False      True        47667   True       True   \n",
      "261   ...                False      True        47667   True      False   \n",
      "262   ...                False      True        47732   True       True   \n",
      "243   ...                False      True        47732   True      False   \n",
      "\n",
      "    sex_id weight_group_id weight_minus  weight_plus zip_code  \n",
      "314   True           False        False        False     True  \n",
      "254   True           False        False        False     True  \n",
      "256   True           False        False        False     True  \n",
      "316   True           False        False        False     True  \n",
      "10   False           False        False        False     True  \n",
      "62    True            True        False        False     True  \n",
      "63    True            True        False        False     True  \n",
      "11   False           False        False        False     True  \n",
      "149   True           False        False        False     True  \n",
      "110   True           False        False        False     True  \n",
      "116   True           False        False        False     True  \n",
      "155   True           False        False        False     True  \n",
      "44    True           False        False        False     True  \n",
      "86    True           False        False        False     True  \n",
      "96    True           False        False        False     True  \n",
      "54    True           False        False        False     True  \n",
      "242   True           False         True        False     True  \n",
      "261   True           False         True        False     True  \n",
      "262   True            True        False        False     True  \n",
      "243   True            True        False        False     True  \n",
      "\n",
      "[20 rows x 31 columns]\n"
     ]
    },
    {
     "name": "stderr",
     "output_type": "stream",
     "text": [
      "/usr/local/lib/python2.7/dist-packages/ipykernel_launcher.py:9: FutureWarning: sort(columns=....) is deprecated, use sort_values(by=.....)\n",
      "  if __name__ == '__main__':\n"
     ]
    }
   ],
   "source": [
    "### GET READ-OUT OF 'WRONG ANSWERS'\n",
    "\n",
    "score_list = [((big_bool['match_'+x]==big_bool['real_match'])*1).tolist() for x in classifiers]\n",
    "\n",
    "errors =  big_bool.iloc[[x==0 for x in score_list[0]],:].sort(['bc_id','real_match'], ascending=[1,0])\n",
    "print errors"
   ]
  },
  {
   "cell_type": "markdown",
   "metadata": {},
   "source": [
    "### Plot precision/recall for each epoch of probabilistic record linkage"
   ]
  },
  {
   "cell_type": "code",
   "execution_count": 5,
   "metadata": {},
   "outputs": [
    {
     "data": {
      "image/png": "[encoded data removed]",
      "text/plain": [
       "<matplotlib.figure.Figure at 0x7f4c5a4a7b10>"
      ]
     },
     "metadata": {},
     "output_type": "display_data"
    }
   ],
   "source": [
    "deltas = np.diff(pr_complex.iter_qual_list)\n",
    "\n",
    "learner_list = [eval(x) for x in classifiers]\n",
    "plot_prec_list = [o.precision_list for o in learner_list]\n",
    "plot_recall_list = [o.recall_list for o in learner_list]\n",
    "color_list = ['b','g','r','c','m'][slice(len(learner_list))]\n",
    "\n",
    "ncol = int(np.ceil(np.sqrt(len(plot_prec_list[0]))))\n",
    "nrow = int(np.ceil(len(plot_recall_list[0])/float(ncol)))\n",
    "fig, axs = plt.subplots(nrow, ncol, sharex='col', sharey='row')\n",
    "for i, ax in enumerate(fig.axes[0:len(plot_prec_list[0])]):   \n",
    "    plot_curves = lambda w,x,y: ax.plot(w[i], x[i], '-', linewidth=2, marker='o', color=y)\n",
    "    map(plot_curves,plot_prec_list,plot_recall_list,color_list)\n",
    "    ax.set_xlim([0,100])\n",
    "    ax.set_ylim([0,100])\n",
    "    ax.set_title(\"iter. # {}\".format(str(i)), fontsize=12)\n",
    "    ax.set(aspect='equal')    \n",
    "else:\n",
    "    ax.set_xlabel('precision', fontsize=12)\n",
    "    ax.set_ylabel('recall', fontsize=12)\n",
    "\n",
    "fig.set_size_inches(4.875*ncol,4.5*nrow)\n",
    "plt.show()\n",
    "fig.savefig('prec_recall.png')"
   ]
  },
  {
   "cell_type": "markdown",
   "metadata": {},
   "source": [
    "### Plot accuracy for each classifier over all epochs"
   ]
  },
  {
   "cell_type": "code",
   "execution_count": 17,
   "metadata": {},
   "outputs": [
    {
     "data": {
      "image/png": "[encoded data removed]",
      "text/plain": [
       "<matplotlib.figure.Figure at 0x7f4c5430fa50>"
      ]
     },
     "metadata": {},
     "output_type": "display_data"
    }
   ],
   "source": [
    "x = range(1,epoch_count+2)\n",
    "y = 100-np.array(score_qual_list, ndmin=2, dtype=np.float).T\n",
    "fig = plt.figure()\n",
    "plt.yscale('log')\n",
    "plt.ylim((y.min(),100))\n",
    "plt.title(\"classifier accuracy\")\n",
    "for quals,cl in zip(y,classifiers):\n",
    "    plt.plot(x,quals,label = cl+' [min:'+str('%.2f' % quals.min())+'%]')\n",
    "plt.xlabel(\"epoch count\")\n",
    "plt.ylabel(\"% incorrect\")\n",
    "plt.legend(loc='upper right')\n",
    "plt.show()\n",
    "\n",
    "fig.savefig('classifier_accuracy.png')"
   ]
  },
  {
   "cell_type": "markdown",
   "metadata": {},
   "source": [
    "### Show table of weights/probabilities for each classifier"
   ]
  },
  {
   "cell_type": "code",
   "execution_count": 25,
   "metadata": {
    "scrolled": true
   },
   "outputs": [
    {
     "data": {
      "text/html": [
       "<table style=\"\"><tr style=\"\"><td style=\"\">classifier</td><td style=\"\">sex_id</td><td style=\"\">c_section</td><td style=\"\">zip_code</td><td style=\"\">race</td><td style=\"\">ethnicity</td><td style=\"\">payer_type_of_coverage_id</td><td style=\"\">language_spoken</td><td style=\"\">discharge</td><td style=\"\">payer_category_id</td><td style=\"\">plan_code_number</td><td style=\"\">weight_group_id</td><td style=\"\">gest_age_group_id</td><td style=\"\">plurality</td><td style=\"\">weight_plus</td><td style=\"\">weight_minus</td><td style=\"\">gest_age_plus</td><td style=\"\">gest_age_minus</td><td style=\"\">bias</td></tr><tr style=\"\"><td style=\"\">pr_complex</td><td style=\"\">0.970114942529</td><td style=\"\">0.990804597701</td><td style=\"\">0.890804597701</td><td style=\"\">0.888505747126</td><td style=\"\">0.929885057471</td><td style=\"\">0.0</td><td style=\"\">0.902298850575</td><td style=\"\">0.881609195402</td><td style=\"\">0.0</td><td style=\"\">0.0</td><td style=\"\">0.0747126436782</td><td style=\"\">0.0287356321839</td><td style=\"\">0.994252873563</td><td style=\"\">0.00229885057471</td><td style=\"\">0.00574712643678</td><td style=\"\">0.0</td><td style=\"\">0.0275862068966</td><td style=\"\">nan</td></tr><tr style=\"\"><td style=\"\">pr_simple</td><td style=\"\">0.970114942529</td><td style=\"\">0.990804597701</td><td style=\"\">0.890804597701</td><td style=\"\">0.888505747126</td><td style=\"\">0.929885057471</td><td style=\"\">0.0</td><td style=\"\">0.902298850575</td><td style=\"\">0.881609195402</td><td style=\"\">0.0</td><td style=\"\">0.0</td><td style=\"\">0.0747126436782</td><td style=\"\">0.0287356321839</td><td style=\"\">0.994252873563</td><td style=\"\">nan</td><td style=\"\">nan</td><td style=\"\">nan</td><td style=\"\">nan</td><td style=\"\">nan</td></tr><tr style=\"\"><td style=\"\">pt_complex</td><td style=\"\">0.163240970757</td><td style=\"\">0.306832617223</td><td style=\"\">0.227058625352</td><td style=\"\">0.159088905318</td><td style=\"\">0.0783341304078</td><td style=\"\">6.61924526531e-05</td><td style=\"\">0.174885628943</td><td style=\"\">0.229271514561</td><td style=\"\">0.00526277212269</td><td style=\"\">0.00407169733123</td><td style=\"\">0.0360792697616</td><td style=\"\">-0.00697362099136</td><td style=\"\">0.0640323030053</td><td style=\"\">-0.000675268329695</td><td style=\"\">-0.017911928144</td><td style=\"\">-0.00630011102413</td><td style=\"\">0.00815196098021</td><td style=\"\">-0.00482794746214</td></tr><tr style=\"\"><td style=\"\">pt_simple</td><td style=\"\">2.91830838155</td><td style=\"\">1.52186911446</td><td style=\"\">3.84791067531</td><td style=\"\">0.805726010688</td><td style=\"\">2.02900348594</td><td style=\"\">-0.00905111986157</td><td style=\"\">2.85289800246</td><td style=\"\">3.36583366228</td><td style=\"\">-0.00491512610326</td><td style=\"\">0.00269076293744</td><td style=\"\">0.24749030433</td><td style=\"\">-0.0150981020741</td><td style=\"\">0.460858409095</td><td style=\"\">nan</td><td style=\"\">nan</td><td style=\"\">nan</td><td style=\"\">nan</td><td style=\"\">0.00322693864553</td></tr></table>"
      ],
      "text/plain": [
       "<itable.itable.PrettyTable at 0x7f4c5458d410>"
      ]
     },
     "execution_count": 25,
     "metadata": {},
     "output_type": "execute_result"
    }
   ],
   "source": [
    "# Assemble table elements into dataframe\n",
    "pt_simple_weights = pt_simple.weights.tolist()[:-1] + [None]*len(complex_features) + [pt_simple.weights.tolist()[-1]]\n",
    "weight_list = [['pr_complex'] + pr_complex.m_probs.tolist() + [None],\n",
    "               ['pr_simple'] + pr_simple.m_probs.tolist() + [None],\n",
    "               ['pt_complex'] + pt_complex.weights.tolist(),\n",
    "               ['pt_simple'] + pt_simple_weights]\n",
    "df = pd.DataFrame(weight_list, columns=['classifier']+feature_vals+['bias'])\n",
    "\n",
    "# Save table as html file\n",
    "my_file = open('weights.html', 'w')\n",
    "my_file.write(df.to_html())\n",
    "pt_simple_weights = pt_simple.weights.tolist()\n",
    "my_file.close()\n",
    "\n",
    "# Show table as ipython figure\n",
    "itable.PrettyTable(df)"
   ]
  },
  {
   "cell_type": "code",
   "execution_count": 11,
   "metadata": {},
   "outputs": [
    {
     "name": "stdout",
     "output_type": "stream",
     "text": [
      "[[ 0.  0.  0.  0. -1.  0.  0. -1.  0. -1. -1. -1. -1. -1. -1.  0.]]\n"
     ]
    }
   ],
   "source": [
    "# Show equivalence between row-iteration and matrix multiplication\n",
    "inputs_list = bool_table[feature_vals]\n",
    "predictions,score = pt_complex.query(inputs_list)\n",
    "targets = np.array(bool_table['match'], ndmin=2)\n",
    "\n",
    "inputs = np.array(inputs_list, ndmin=2)\n",
    "inputs = np.concatenate((inputs,np.repeat(1, len(inputs[:,1]))[:, None]), axis=1) # Add bias input\n",
    "weights = np.random.uniform(low=-0.01, high=0.01, size=len(inputs[1,:]))\n",
    "    \n",
    "output_errors = targets-predictions\n",
    "print output_errors\n",
    "#print inputs.shape,weights.shape,output_errors.shape\n",
    "\n",
    "#print learning_rate * np.dot(output_errors, inputs)\n",
    "\n",
    "for i,row in enumerate(inputs):\n",
    "    foo = output_errors[:,i] * row\n",
    "    weights += learning_rate * output_errors[:,i] * row\n",
    "#print weights"
   ]
  },
  {
   "cell_type": "code",
   "execution_count": 11,
   "metadata": {},
   "outputs": [
    {
     "name": "stdout",
     "output_type": "stream",
     "text": [
      "37\n",
      "32\n",
      "484\n",
      "84.2105263158 4.59110473458\n"
     ]
    }
   ],
   "source": [
    "cutoff = theta[-1]\n",
    "winners = (big_bool['linkage_score']>cutoff)\n",
    "print sum(winners&big_bool['real_match'])\n",
    "print sum(winners&big_bool['pair_match']&big_bool['real_match'])\n",
    "print sum(big_bool['pair_match']&big_bool['real_match'])\n",
    "\n",
    "# Precision: the percent of pairs with a score above theta that are real matches\n",
    "# USE ONLY NOMINATED PAIRS\n",
    "# - numerator: number of NOMINATED pairs with a score above theta that are real matches\n",
    "real_picks = sum(winners&big_bool['real_match']&big_bool['pair_match'])\n",
    "# - denominater: number of NOMINATED pairs with a score above theta\n",
    "picks = sum(winners&big_bool['pair_match'])\n",
    "precision = (real_picks/float(picks)*100)\n",
    "\n",
    "# Recall: the percent of known matched pairs that get a score above theta\n",
    "# - numerator: number of NOMINATED pairs with a score above theta that are real matches\n",
    "# - denominater: number of pairs that are real matches\n",
    "real_matches = big_bool['real_match'].sum()\n",
    "recall = (real_picks/float(real_matches)*100)\n",
    "\n",
    "print precision,recall"
   ]
  },
  {
   "cell_type": "code",
   "execution_count": null,
   "metadata": {
    "collapsed": true
   },
   "outputs": [],
   "source": [
    "\n",
    "\"\"\"\n",
    "[1,  '< 500g',          1,    1 ..  499, 1],\n",
    "    [2,  '500 to 749g',     2,  500 ..  749, 1],\n",
    "    [3,  '750 to 999g',     3,  750 ..  999, 1],\n",
    "    [4,  '1,000 to 1,250g', 4, 1000 .. 1250, 2],\n",
    "    [5,  '1,250 to 1,499g', 5, 1250 .. 1499, 2],\n",
    "    [6,  '1,500 to 1,749g', 6, 1500 .. 1749, 3],\n",
    "    [7,  '1,750 to 1,999g', 7, 1750 .. 1999, 4],\n",
    "    [8,  '2,000 to 2,499g', 8, 2000 .. 2499, 5],\n",
    "    [9,  '> 2,500g',        9, 2500 .. 9999, 6],\n",
    "    # Overweight?!?\n",
    "    [11, 'Unknown',         0, []],\n",
    "\"\"\"\n",
    "\n",
    "\n",
    "data = list(cross_table['birth_weight'])\n",
    "        \n",
    "bw_bins = np.concatenate(([1], np.arange(500, 2001, 250),[2500,9999]), axis=0)\n",
    "print bw_bins\n",
    "\n",
    "inds = np.digitize(data, bw_bins)\n",
    "\n",
    "for n in range(len(data)):\n",
    "    print(bw_bins[inds[n]-1], \"<=\", data[n], \"<\", bw_bins[inds[n]])\n"
   ]
  },
  {
   "cell_type": "code",
   "execution_count": null,
   "metadata": {
    "collapsed": true
   },
   "outputs": [],
   "source": [
    "data = cross_table['gestational_age_ob_estimate']/7\n",
    "\n",
    "# '<24 weeks','24 weeks','25-26 weeks','27-28 weeks',...'35-36 weeks','37 or more weeks'\n",
    "        \n",
    "bins = np.concatenate(([0,24], np.arange(25, 36, 2),[99]), axis=0)\n",
    "print bins\n",
    "\n",
    "inds = np.digitize(data.tolist(), bins)\n",
    "\n",
    "for n in range(len(data)):\n",
    "    print(bins[inds[n]-1], \"<=\", data[n], \"<\", bins[inds[n]])\n"
   ]
  },
  {
   "cell_type": "code",
   "execution_count": 3,
   "metadata": {},
   "outputs": [
    {
     "data": {
      "text/plain": [
       "\"\\n# Find relative frequencies of values in each field\\n# - save each as dictionary (1 dict per field per table)\\nrel_freq_tA = {}\\nfor i in tableA_fields:\\n    stmt = '''SELECT {0} value, COUNT(*) count\\n    FROM {1}\\n    GROUP BY {0};'''.format(i,tableA)\\n    field_dict = exec_statement(stmt,'dict')\\n    rel_freq_tA[i] = dict(zip(field_dict['value'],field_dict['count']))\\n    \\nrel_freq_tB = {}\\nfor i in tableB_fields:\\n    stmt = '''SELECT {0} value, COUNT(*) count\\n    FROM {1}\\n    GROUP BY {0};'''.format(i,tableB)\\n    field_dict = exec_statement(stmt,'dict')\\n    rel_freq_tB[i] = dict(zip(field_dict['value'],field_dict['count']))\\n\\n# BROKEN\\ndef rel_freq(table_fields,table):\\n    # Find relative frequencies of values in each field\\n    # - save each as dictionary (1 dict per field per table)\\n    freq_out = {}\\n    for i in table_fields:\\n        stmt = '''SELECT {0} value, COUNT(*) count\\n        FROM {1}\\n        GROUP BY {0};'''.format(i,table)\\n        field_dict = l.exec_sql(stmt).to_dict()\\n        print field_dict\\n        freq_out[i] = dict(zip(field_dict['value'],field_dict['count']))\\n    \\nrel_freq_tA = rel_freq(tableA_fields,tableA)\\nrel_freq_tB = rel_freq(tableB_fields,tableB)\\n\""
      ]
     },
     "execution_count": 3,
     "metadata": {},
     "output_type": "execute_result"
    }
   ],
   "source": [
    "\"\"\"\n",
    "# Find relative frequencies of values in each field\n",
    "# - save each as dictionary (1 dict per field per table)\n",
    "rel_freq_tA = {}\n",
    "for i in tableA_fields:\n",
    "    stmt = '''SELECT {0} value, COUNT(*) count\n",
    "    FROM {1}\n",
    "    GROUP BY {0};'''.format(i,tableA)\n",
    "    field_dict = exec_statement(stmt,'dict')\n",
    "    rel_freq_tA[i] = dict(zip(field_dict['value'],field_dict['count']))\n",
    "    \n",
    "rel_freq_tB = {}\n",
    "for i in tableB_fields:\n",
    "    stmt = '''SELECT {0} value, COUNT(*) count\n",
    "    FROM {1}\n",
    "    GROUP BY {0};'''.format(i,tableB)\n",
    "    field_dict = exec_statement(stmt,'dict')\n",
    "    rel_freq_tB[i] = dict(zip(field_dict['value'],field_dict['count']))\n",
    "\n",
    "# BROKEN\n",
    "def rel_freq(table_fields,table):\n",
    "    # Find relative frequencies of values in each field\n",
    "    # - save each as dictionary (1 dict per field per table)\n",
    "    freq_out = {}\n",
    "    for i in table_fields:\n",
    "        stmt = '''SELECT {0} value, COUNT(*) count\n",
    "        FROM {1}\n",
    "        GROUP BY {0};'''.format(i,table)\n",
    "        field_dict = l.exec_sql(stmt).to_dict()\n",
    "        print field_dict\n",
    "        freq_out[i] = dict(zip(field_dict['value'],field_dict['count']))\n",
    "    \n",
    "rel_freq_tA = rel_freq(tableA_fields,tableA)\n",
    "rel_freq_tB = rel_freq(tableB_fields,tableB)\n",
    "\"\"\"\n"
   ]
  },
  {
   "cell_type": "markdown",
   "metadata": {},
   "source": [
    "### Update 'births' table accordingly"
   ]
  },
  {
   "cell_type": "code",
   "execution_count": null,
   "metadata": {
    "collapsed": true
   },
   "outputs": [],
   "source": [
    "foo = fin_bool.loc[big_bool['pair_match']==1]\n",
    "for index, row in foo.iterrows():     \n",
    "    stmt1 = '''\n",
    "        UPDATE births \n",
    "        SET newborn_id_2 = %d, newborn_linkage_score_2 = %s\n",
    "        WHERE id = %d;\n",
    "        ''' % (row['newb_id'], row['linkage_score'], row['bc_id'])\n",
    "    exec_statement(stmt1)"
   ]
  },
  {
   "cell_type": "code",
   "execution_count": null,
   "metadata": {
    "collapsed": true
   },
   "outputs": [],
   "source": []
  }
 ],
 "metadata": {
  "kernelspec": {
   "display_name": "Python 2",
   "language": "python",
   "name": "python2"
  },
  "language_info": {
   "codemirror_mode": {
    "name": "ipython",
    "version": 2
   },
   "file_extension": ".py",
   "mimetype": "text/x-python",
   "name": "python",
   "nbconvert_exporter": "python",
   "pygments_lexer": "ipython2",
   "version": "2.7.12"
  }
 },
 "nbformat": 4,
 "nbformat_minor": 2
}
