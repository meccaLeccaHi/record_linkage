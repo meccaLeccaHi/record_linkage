{
 "cells": [
  {
   "cell_type": "code",
   "execution_count": 1,
   "metadata": {
    "scrolled": true
   },
   "outputs": [],
   "source": [
    "%matplotlib inline\n",
    "\n",
    "# Import python modules\n",
    "import matplotlib.pyplot as plt\n",
    "import numpy as np\n",
    "import pandas as pd\n",
    "import time\n",
    "import sys\n",
    "\n",
    "import itable\n",
    "\n",
    "from linkage_tools import *\n",
    "from Probabilistic import *\n",
    "from Perceptron import *\n",
    "\n",
    "'''\n",
    "from NeuralNetwork import *\n",
    "'''\n",
    "\n",
    "l = Linker()\n",
    "\n",
    "#import warnings\n",
    "#warnings.filterwarnings('error')\n",
    "\n",
    "verbose = True"
   ]
  },
  {
   "cell_type": "markdown",
   "metadata": {},
   "source": [
    "### Define linking variables"
   ]
  },
  {
   "cell_type": "code",
   "execution_count": 2,
   "metadata": {
    "collapsed": true
   },
   "outputs": [],
   "source": [
    "# Define tables\n",
    "tableA = '''patient_discharges JOIN newborns\n",
    "ON patient_discharges.id = newborns.patient_discharge_id\n",
    "LEFT OUTER JOIN patient_payers AS newborn_payers\n",
    "ON newborn_payers.patient_discharge_id = patient_discharges.id'''\n",
    "\n",
    "tableB = '''births JOIN deliveries \n",
    "ON births.delivery_id = deliveries.id\n",
    "JOIN patient_discharges AS delivery_discharges\n",
    "ON deliveries.patient_discharge_id = delivery_discharges.id\n",
    "LEFT OUTER JOIN patient_payers AS delivery_payers\n",
    "ON delivery_payers.patient_discharge_id = delivery_discharges.id'''\n",
    "\n",
    "# Define fields to compare tables by\n",
    "tableA_fields = ['patient_discharges.sex_id','newborns.id','newborns.cesarean_section', \n",
    "            'patient_discharges.zip_code','patient_discharges.race_id','patient_discharges.ethnicity_id', \n",
    "                'newborn_payers.payer_type_of_coverage_id','patient_discharges.principal_language_spoken', \n",
    "                 'patient_discharges.discharged_on','newborn_payers.payer_category_id',\n",
    "                 'newborn_payers.plan_code_number','newborns.birth_weight_group_id',\n",
    "                 'newborns.gestational_age_group_id','newborns.plurality_group_id']\n",
    "\n",
    "tableB_fields = ['births.sex_id','births.newborn_id','births.delivery_route_id', \n",
    "            'births.mothers_residence_zip_code','delivery_discharges.race_id','delivery_discharges.ethnicity_id', \n",
    "                'delivery_payers.payer_type_of_coverage_id','delivery_discharges.principal_language_spoken', \n",
    "                 'delivery_discharges.discharged_on','delivery_payers.payer_category_id',\n",
    "                 'delivery_payers.plan_code_number','births.birth_weight',\n",
    "                 'births.gestational_age_ob_estimate','births.plurality'] \n",
    "\n",
    "feature_vals = ['sex_id','c_section','zip_code','race','ethnicity','payer_type_of_coverage_id',\n",
    "                'language_spoken','discharge','payer_category_id','plan_code_number','weight_group_id',\n",
    "                'gest_age_group_id','plurality','weight_plus','weight_minus','gest_age_plus','gest_age_minus']\n",
    "\n",
    "# Define bins to use for certain fields\n",
    "age_bins = np.concatenate(([1,24], np.arange(25, 36, 2),[99]), axis=0)\n",
    "bw_bins = np.concatenate(([1], np.arange(500, 2001, 250),[2500,9999]), axis=0)\n",
    "\n",
    "cesarean_ids = [1, 11, 21, 31, 2, 12, 22, 32]\n",
    "    \n",
    "# Define conditions (expressions) on which to compare fields\n",
    "conditions = [  \"cross_table['sex_id_x']==cross_table['sex_id_y']\",\n",
    "                \"cross_table['cesarean_section']==[x in cesarean_ids for x in cross_table['delivery_route_id']]\",\n",
    "                \"cross_table['zip_code']==cross_table['mothers_residence_zip_code']\",\n",
    "                \"cross_table['race_id_x']==cross_table['race_id_y']\",\n",
    "                \"cross_table['ethnicity_id_x']==cross_table['ethnicity_id_y']\",\n",
    "                \"cross_table['payer_type_of_coverage_id_x']==cross_table['payer_type_of_coverage_id_y']\",\n",
    "                \"cross_table['principal_language_spoken_x']==cross_table['principal_language_spoken_y']\",\n",
    "                \"cross_table['discharged_on_x']==cross_table['discharged_on_y']\",\n",
    "                \"cross_table['payer_category_id_x']==cross_table['payer_category_id_y']\",\n",
    "                \"cross_table['plan_code_number_x']==cross_table['plan_code_number_y']\",\n",
    "                \"cross_table['birth_weight_group_id']==np.digitize(list(cross_table['birth_weight']),bw_bins)\",\n",
    "                \"cross_table['gestational_age_group_id']==np.digitize(list(cross_table['gestational_age_ob_estimate']/7),age_bins)+1\",\n",
    "                \"(cross_table['plurality_group_id']==1)==(cross_table['plurality']==1)\",\n",
    "                \"cross_table['birth_weight_group_id']==np.digitize(list(cross_table['birth_weight']),bw_bins)+1\",\n",
    "                \"cross_table['birth_weight_group_id']==np.digitize(list(cross_table['birth_weight']),bw_bins)-1\",\n",
    "                \"cross_table['gestational_age_group_id']==np.digitize(list(cross_table['gestational_age_ob_estimate']),age_bins)+2\",\n",
    "                \"cross_table['gestational_age_group_id']==np.digitize(list(cross_table['gestational_age_ob_estimate']),age_bins)\"  ] \n",
    "\n",
    "simple_features = feature_vals[0:13]\n",
    "complex_features = feature_vals[13:]"
   ]
  },
  {
   "cell_type": "markdown",
   "metadata": {},
   "source": [
    "### Blocking"
   ]
  },
  {
   "cell_type": "code",
   "execution_count": 3,
   "metadata": {
    "collapsed": true
   },
   "outputs": [],
   "source": [
    "# Find all possible values for 1st blocking field ('hospital_id')\n",
    "stmt = '''\n",
    "SELECT DISTINCT patient_discharges.hospital_id\n",
    "FROM patient_discharges \n",
    "UNION\n",
    "SELECT DISTINCT births.hospital_id\n",
    "FROM births;'''\n",
    "block_list1 = [x[0] for x in l.exec_sql(stmt).values.tolist()]\n",
    "\n",
    "block_list1 = block_list1[0:1]\n",
    "\n",
    "# Find all possible values for 2nd blocking field ('date_of_delivery')\n",
    "stmt = '''\n",
    "SELECT DISTINCT births.date_of_delivery\n",
    "FROM births;'''\n",
    "block_list2 = [x[0] for x in l.exec_sql(stmt).values.tolist()]\n",
    "\n",
    "block_list2 = block_list2[500:550]\n",
    "\n",
    "block_prod = [(str(x),str(y)) for x in block_list1 for y in block_list2]\n",
    "\n",
    "# Assign strings to select each block\n",
    "blocking_stmt1 = '''\n",
    "        SELECT patient_discharges.id AS pdd_id, newborns.id AS newb_id,%s \n",
    "        FROM %s\n",
    "        WHERE patient_discharges.hospital_id = %r\n",
    "        AND patient_discharges.date_of_birth = %r;\n",
    "        '''\n",
    "blocking_stmt2 = '''\n",
    "        SELECT births.id AS bc_id,%s\n",
    "        FROM %s\n",
    "        WHERE births.hospital_id = %r\n",
    "        AND births.date_of_delivery = %r;\n",
    "        '''"
   ]
  },
  {
   "cell_type": "markdown",
   "metadata": {},
   "source": [
    "### Create classifier and iterate over each block\n",
    "- Create [probabilistic] and [perceptron] classifier (train each on selected subset of features ['simple' vs. 'complex'])\n",
    "- Loop over each block and convert to pandas dataframe\n",
    "- Cross join the features-of-interest from both blocks\n",
    "- Apply conditional statements to each column of dataframe\n",
    "- Return match score from each learner\n",
    "- Maximize pairing with Kuhn-Munkres (i.e. Hungarian) Algorithm [more info]\n",
    "- Compare guesses to truth, update weights/probabilities\n",
    "\n",
    "[more info]: https://pypi.python.org/pypi/munkres/\n",
    "[perceptron]: http://glowingpython.blogspot.com/2011/10/perceptron.html\n",
    "[probabilistic]: https://www.ncbi.nlm.nih.gov/pmc/articles/PMC5005943/"
   ]
  },
  {
   "cell_type": "code",
   "execution_count": 4,
   "metadata": {
    "scrolled": true
   },
   "outputs": [
    {
     "name": "stdout",
     "output_type": "stream",
     "text": [
      " Iter. #1, blockA: 21 records, blockB: 21 records  \n",
      "Average block duration: 3.72 seconds\n",
      "\t\t['pr_simple', 'pr_complex', 'pt_simple', 'pt_complex']\n",
      "'Quality' of iter.: [102.84780496045654, 91.749681859002038, 45.434237772199197, 74.164728811559783]\n",
      " Iter. #2, blockA: 21 records, blockB: 21 records  \n",
      "Average block duration: 3.66 seconds\n",
      "\t\t['pr_simple', 'pr_complex', 'pt_simple', 'pt_complex']\n",
      "'Quality' of iter.: [126.64457301798984, 126.8272753527168, 124.59007098375562, 124.62530664249869]\n",
      " Iter. #3, blockA: 21 records, blockB: 21 records  \n",
      "'Quality' achieved! @ [126.64457301798984, 126.8272753527168, 124.59007098375562, 124.62667329770504]\n",
      "Average epoch duration: 0.212 minutes\n"
     ]
    }
   ],
   "source": [
    "learning_rate = 0.005 # small, constant learning rate for perceptron\n",
    "\n",
    "# Create instances of classifiers\n",
    "pr_simple = Probabilistic(len(simple_features)) # probabilistic linkage (simple features only)\n",
    "pr_complex = Probabilistic(len(conditions)) # probabilistic linkage (all features)\n",
    "\n",
    "pt_simple = Perceptron(len(simple_features),learning_rate) # single-layer perceptron (simple features only)\n",
    "pt_complex = Perceptron(len(conditions),learning_rate) # single-layer perceptron (all features)\n",
    "\n",
    "# n = l.neuralNetwork(input_nodes,hidden_nodes,output_nodes,learning_rate) # multi-layer neural network\n",
    "\n",
    "classifiers = ['pr_simple','pr_complex','pt_simple','pt_complex']\n",
    "classifier_features = [simple_features,feature_vals,simple_features,feature_vals]\n",
    "class_prog = [True] * len(classifiers)\n",
    "\n",
    "iter_qual_list = []\n",
    "block_duration = []\n",
    "epoch_duration = []\n",
    "epoch_count = 0\n",
    "verb_str = '\\r Iter. #{}, blockA: {} records, blockB: {} records  ' # verbose output\n",
    "\n",
    "while True:\n",
    "\n",
    "    big_bool = pd.DataFrame(columns=feature_vals)\n",
    "\n",
    "    #tss = 0.0 # total sum-squared error\n",
    "    \n",
    "    epoch_start = time.time() # Measure epoch duration\n",
    "\n",
    "    for block1, block2 in block_prod:\n",
    "        \n",
    "        block_start = time.time() # Measure block duration\n",
    "\n",
    "        # Create 'blockA'\n",
    "        blockA = l.exec_sql(blocking_stmt1 % (\",\".join(tableA_fields),tableA,block1,block2))\n",
    "\n",
    "        # Create 'blockB'\n",
    "        blockB = l.exec_sql(blocking_stmt2 % (\",\".join(tableB_fields),tableB,block1,block2))\n",
    "        \n",
    "        if verbose:\n",
    "            sys.stdout.write(verb_str.format(epoch_count+1, len(blockA), len(blockB)))\n",
    "        \n",
    "        # Check that neither block is empty - If empty, skip to next record-pair in loop\n",
    "        if (len(blockA)==0) or (len(blockB)==0):\n",
    "            continue\n",
    "\n",
    "        # Cross-join both blocks\n",
    "        cross_table = l.df_crossjoin(blockA, blockB)\n",
    "\n",
    "        # Count field matches and dump each into new column of dataframe\n",
    "        bool_table = pd.DataFrame.from_items(zip(feature_vals,[eval(x).values for x in conditions]))\n",
    "\n",
    "        # Add record-id columns to boolean table\n",
    "        bool_table['newb_id'] = cross_table['newb_id'].values # Actual newborn id\n",
    "        bool_table['bc_id'] = cross_table['bc_id'].values  # Actual bc id\n",
    "        record_id = bool_table[['newb_id','bc_id']]\n",
    "\n",
    "        # Compare with previously-linked newborn id\n",
    "        bool_table['real_match'] = (cross_table['newborn_id']==cross_table['newb_id']).values \n",
    "        for x in classifiers:\n",
    "            bool_table['match_'+x] = False # Create new columns for later\n",
    "        \n",
    "        # Get guesses from classifiers\n",
    "        for x,y in zip(classifiers,classifier_features):\n",
    "            links_ind,link_score = eval(x).query(bool_table[y],record_id) \n",
    "            bool_table['lscore_'+x] = link_score\n",
    "            bool_table.loc[links_ind,'match_'+x] = True # Label nominees as such  \n",
    "            \n",
    "        # Aggregate field-match tables (Booleans) within loop\n",
    "        big_bool = pd.concat([big_bool,bool_table])\n",
    "\n",
    "    # Train probabilistic classifiers\n",
    "    if class_prog[classifiers.index('pr_simple')]: # If still progressing...\n",
    "        pr_simple.train(big_bool[simple_features],big_bool['real_match'])\n",
    "    if class_prog[classifiers.index('pr_complex')]:\n",
    "        pr_complex.train(big_bool[feature_vals],big_bool['real_match'])\n",
    "        \n",
    "    # Train perceptron classifiers\n",
    "    if class_prog[classifiers.index('pt_simple')]:\n",
    "        pt_simple.train(big_bool[simple_features],big_bool['real_match'],big_bool[['newb_id','bc_id']])\n",
    "    if class_prog[classifiers.index('pt_complex')]:\n",
    "        pt_complex.train(big_bool[feature_vals],big_bool['real_match'],big_bool[['newb_id','bc_id']])\n",
    "\n",
    "    # Time duration of each block\n",
    "    block_duration.append(time.time()-block_start)\n",
    "    \n",
    "    # Get range of linkage scores (0 through 100 percentiles) i.e. decision threshold (theta)\n",
    "    get_thetas = lambda x: np.percentile(big_bool[x].loc[big_bool['real_match']],range(0,100,10))\n",
    "    \n",
    "    # Update precision & recall of classifiers\n",
    "    for x in classifiers:\n",
    "        eval(x).prec_recall(big_bool['lscore_'+x],get_thetas('lscore_'+x),big_bool['real_match'])\n",
    "    \n",
    "    # Compare current iteration 'quality' with previous iterations\n",
    "    cur_iter_list = [eval(x).iter_qual_list[-1] for x in classifiers]\n",
    "    prev_iter_list = [eval(x).iter_qual_list[-2] for x in classifiers]\n",
    "\n",
    "    class_prog = np.subtract(cur_iter_list,prev_iter_list)>.01\n",
    "    # Break from outer loop\n",
    "    if not any(class_prog): # If not improving\n",
    "        print str.format(\"\\n'Quality' achieved! @ {}\",cur_iter_list)\n",
    "        break\n",
    "\n",
    "    if verbose:\n",
    "        #print '\\n',pd.DataFrame([m_probs, u_probs, weights],index=['m_probs', 'u_probs', 'weights'])\n",
    "        print str.format('\\nAverage block duration: {0:.2f} seconds', np.mean(block_duration))\n",
    "        print '\\t'*2+str(classifiers)\n",
    "        print str.format(\"'Quality' of iter.: {}\", cur_iter_list)\n",
    "\n",
    "    # Time duration of each iteration\n",
    "    epoch_duration.append(time.time()-epoch_start)\n",
    "    \n",
    "    epoch_count += 1 # Increment epoch counter\n",
    "\n",
    "print str.format('Average epoch duration: {0:.3f} minutes', np.mean(epoch_duration)/60.0)"
   ]
  },
  {
   "cell_type": "code",
   "execution_count": 13,
   "metadata": {},
   "outputs": [
    {
     "name": "stdout",
     "output_type": "stream",
     "text": [
      "\t['pr_simple', 'pr_complex', 'pt_simple', 'pt_complex']\n",
      "\n"
     ]
    }
   ],
   "source": []
  },
  {
   "cell_type": "markdown",
   "metadata": {},
   "source": [
    "### Show table of weights/probabilities for each classifier"
   ]
  },
  {
   "cell_type": "code",
   "execution_count": 8,
   "metadata": {
    "scrolled": true
   },
   "outputs": [
    {
     "data": {
      "text/html": [
       "<table style=\"\"><tr style=\"\"><td style=\"\">classifier</td><td style=\"\">sex_id</td><td style=\"\">c_section</td><td style=\"\">zip_code</td><td style=\"\">race</td><td style=\"\">ethnicity</td><td style=\"\">payer_type_of_coverage_id</td><td style=\"\">language_spoken</td><td style=\"\">discharge</td><td style=\"\">payer_category_id</td><td style=\"\">plan_code_number</td><td style=\"\">weight_group_id</td><td style=\"\">gest_age_group_id</td><td style=\"\">plurality</td><td style=\"\">weight_plus</td><td style=\"\">weight_minus</td><td style=\"\">gest_age_plus</td><td style=\"\">gest_age_minus</td><td style=\"\">bias</td></tr><tr style=\"\"><td style=\"\">pr_complex</td><td style=\"\">0.974244120941</td><td style=\"\">0.994400895857</td><td style=\"\">0.89921612542</td><td style=\"\">0.88241881299</td><td style=\"\">0.908174692049</td><td style=\"\">0.0</td><td style=\"\">0.873460246361</td><td style=\"\">0.914893617021</td><td style=\"\">0.0</td><td style=\"\">0.0</td><td style=\"\">0.0772676371781</td><td style=\"\">0.0347144456887</td><td style=\"\">0.992161254199</td><td style=\"\">0.003359462486</td><td style=\"\">0.00223964165733</td><td style=\"\">0.0</td><td style=\"\">0.03359462486</td><td style=\"\">nan</td></tr><tr style=\"\"><td style=\"\">pr_simple</td><td style=\"\">0.974244120941</td><td style=\"\">0.994400895857</td><td style=\"\">0.89921612542</td><td style=\"\">0.88241881299</td><td style=\"\">0.908174692049</td><td style=\"\">0.0</td><td style=\"\">0.873460246361</td><td style=\"\">0.914893617021</td><td style=\"\">0.0</td><td style=\"\">0.0</td><td style=\"\">0.0772676371781</td><td style=\"\">0.0347144456887</td><td style=\"\">0.992161254199</td><td style=\"\">nan</td><td style=\"\">nan</td><td style=\"\">nan</td><td style=\"\">nan</td><td style=\"\">nan</td></tr><tr style=\"\"><td style=\"\">pt_complex</td><td style=\"\">26.0905270221</td><td style=\"\">26.6344866218</td><td style=\"\">24.096913114</td><td style=\"\">23.6482246776</td><td style=\"\">24.3365261825</td><td style=\"\">0.00181414890419</td><td style=\"\">23.3953457302</td><td style=\"\">24.5074341641</td><td style=\"\">0.00407829374477</td><td style=\"\">0.003194352717</td><td style=\"\">2.06172094695</td><td style=\"\">0.933242609249</td><td style=\"\">26.579886516</td><td style=\"\">0.0820943862663</td><td style=\"\">0.0625091656286</td><td style=\"\">-0.00406166233518</td><td style=\"\">0.897941408298</td><td style=\"\">26.7976008307</td></tr><tr style=\"\"><td style=\"\">pt_simple</td><td style=\"\">26.097374696</td><td style=\"\">26.6499799904</td><td style=\"\">24.0835485477</td><td style=\"\">23.6499505811</td><td style=\"\">24.329559815</td><td style=\"\">0.00701378226863</td><td style=\"\">23.4079162101</td><td style=\"\">24.5092355099</td><td style=\"\">-0.00625547085834</td><td style=\"\">0.0098131763412</td><td style=\"\">2.06541236413</td><td style=\"\">0.934799104628</td><td style=\"\">26.5808129464</td><td style=\"\">nan</td><td style=\"\">nan</td><td style=\"\">nan</td><td style=\"\">nan</td><td style=\"\">26.7841135185</td></tr></table>"
      ],
      "text/plain": [
       "<itable.itable.PrettyTable at 0x7faf91bdca10>"
      ]
     },
     "execution_count": 8,
     "metadata": {},
     "output_type": "execute_result"
    }
   ],
   "source": [
    "# Assemble table elements into dataframe\n",
    "pt_simple_weights = pt_simple.weights.tolist()[:-1] + [None]*len(complex_features) + [pt_simple.weights.tolist()[-1]]\n",
    "weight_list = [['pr_complex'] + pr_complex.m_probs.tolist() + [None],\n",
    "               ['pr_simple'] + pr_simple.m_probs.tolist() + [None],\n",
    "               ['pt_complex'] + pt_complex.weights.tolist(),\n",
    "               ['pt_simple'] + pt_simple_weights]\n",
    "df = pd.DataFrame(weight_list, columns=['classifier']+feature_vals+['bias'])\n",
    "\n",
    "# Save table as html file\n",
    "my_file = open('weights.html', 'w')\n",
    "my_file.write(df.to_html())\n",
    "pt_simple_weights = pt_simple.weights.tolist()\n",
    "my_file.close()\n",
    "\n",
    "# Show table as ipython figure\n",
    "itable.PrettyTable(df)"
   ]
  },
  {
   "cell_type": "markdown",
   "metadata": {},
   "source": [
    "### Plot precision/recall for each iteration of probabilistic record linkage"
   ]
  },
  {
   "cell_type": "code",
   "execution_count": 5,
   "metadata": {},
   "outputs": [
    {
     "data": {
      "image/png": "[encoded data removed]",
      "text/plain": [
       "<matplotlib.figure.Figure at 0x7f88d2bec310>"
      ]
     },
     "metadata": {},
     "output_type": "display_data"
    }
   ],
   "source": [
    "deltas = np.diff(pr_complex.iter_qual_list)\n",
    "\n",
    "learner_list = [pr_complex,pr_simple,pt_complex,pt_simple]\n",
    "plot_prec_list = [o.prec_list for o in learner_list]\n",
    "plot_recall_list = [o.recall_list for o in learner_list]\n",
    "color_list = ['b','g','r','c','m'][slice(len(learner_list))]\n",
    "\n",
    "ncol = int(np.ceil(np.sqrt(len(plot_prec_list[0]))))\n",
    "nrow = int(np.ceil(len(plot_recall_list[0])/float(ncol)))\n",
    "fig, axs = plt.subplots(nrow, ncol, sharex='col', sharey='row')\n",
    "for i, ax in enumerate(fig.axes[0:len(plot_prec_list[0])]):   \n",
    "    plot_curves = lambda w,x,y: ax.plot(w[i], x[i], '-', linewidth=2, marker='o', color=y)\n",
    "    map(plot_curves,plot_prec_list,plot_recall_list,color_list)\n",
    "    ax.set_xlim([0,100])\n",
    "    ax.set_ylim([0,100])\n",
    "    ax.set_title(\"iter. # {}\".format(str(i)), fontsize=12)\n",
    "    ax.set(aspect='equal')    \n",
    "else:\n",
    "    ax.set_xlabel('precision', fontsize=12)\n",
    "    ax.set_ylabel('recall', fontsize=12)\n",
    "\n",
    "\n",
    "fig.set_size_inches(4.875*ncol,4.5*nrow)\n",
    "plt.show()\n",
    "fig.savefig('prec_recall.png')"
   ]
  },
  {
   "cell_type": "code",
   "execution_count": 44,
   "metadata": {},
   "outputs": [
    {
     "data": {
      "image/png": "[encoded data removed]",
      "text/plain": [
       "<matplotlib.figure.Figure at 0x7fa281aaca50>"
      ]
     },
     "metadata": {},
     "output_type": "display_data"
    }
   ],
   "source": [
    "plt.plot(pt_complex.tss)\n",
    "plt.ylabel('some numbers')\n",
    "plt.show()"
   ]
  },
  {
   "cell_type": "code",
   "execution_count": 11,
   "metadata": {},
   "outputs": [
    {
     "name": "stdout",
     "output_type": "stream",
     "text": [
      "[[ 0.  0.  0.  0. -1.  0.  0. -1.  0. -1. -1. -1. -1. -1. -1.  0.]]\n"
     ]
    }
   ],
   "source": [
    "# Show equivalence between row-iteration and matrix multiplication\n",
    "inputs_list = bool_table[feature_vals]\n",
    "predictions,score = pt_complex.query(inputs_list)\n",
    "targets = np.array(bool_table['match'], ndmin=2)\n",
    "\n",
    "inputs = np.array(inputs_list, ndmin=2)\n",
    "inputs = np.concatenate((inputs,np.repeat(1, len(inputs[:,1]))[:, None]), axis=1) # Add bias input\n",
    "weights = np.random.uniform(low=-0.01, high=0.01, size=len(inputs[1,:]))\n",
    "    \n",
    "output_errors = targets-predictions\n",
    "print output_errors\n",
    "#print inputs.shape,weights.shape,output_errors.shape\n",
    "\n",
    "#print learning_rate * np.dot(output_errors, inputs)\n",
    "\n",
    "for i,row in enumerate(inputs):\n",
    "    foo = output_errors[:,i] * row\n",
    "    weights += learning_rate * output_errors[:,i] * row\n",
    "#print weights"
   ]
  },
  {
   "cell_type": "code",
   "execution_count": 11,
   "metadata": {},
   "outputs": [
    {
     "name": "stdout",
     "output_type": "stream",
     "text": [
      "37\n",
      "32\n",
      "484\n",
      "84.2105263158 4.59110473458\n"
     ]
    }
   ],
   "source": [
    "cutoff = theta[-1]\n",
    "winners = (big_bool['linkage_score']>cutoff)\n",
    "print sum(winners&big_bool['real_match'])\n",
    "print sum(winners&big_bool['pair_match']&big_bool['real_match'])\n",
    "print sum(big_bool['pair_match']&big_bool['real_match'])\n",
    "\n",
    "# Precision: the percent of pairs with a score above theta that are real matches\n",
    "# USE ONLY NOMINATED PAIRS\n",
    "# - numerator: number of NOMINATED pairs with a score above theta that are real matches\n",
    "real_picks = sum(winners&big_bool['real_match']&big_bool['pair_match'])\n",
    "# - denominater: number of NOMINATED pairs with a score above theta\n",
    "picks = sum(winners&big_bool['pair_match'])\n",
    "precision = (real_picks/float(picks)*100)\n",
    "\n",
    "# Recall: the percent of known matched pairs that get a score above theta\n",
    "# - numerator: number of NOMINATED pairs with a score above theta that are real matches\n",
    "# - denominater: number of pairs that are real matches\n",
    "real_matches = big_bool['real_match'].sum()\n",
    "recall = (real_picks/float(real_matches)*100)\n",
    "\n",
    "print precision,recall"
   ]
  },
  {
   "cell_type": "code",
   "execution_count": null,
   "metadata": {
    "collapsed": true
   },
   "outputs": [],
   "source": [
    "\n",
    "\"\"\"\n",
    "[1,  '< 500g',          1,    1 ..  499, 1],\n",
    "    [2,  '500 to 749g',     2,  500 ..  749, 1],\n",
    "    [3,  '750 to 999g',     3,  750 ..  999, 1],\n",
    "    [4,  '1,000 to 1,250g', 4, 1000 .. 1250, 2],\n",
    "    [5,  '1,250 to 1,499g', 5, 1250 .. 1499, 2],\n",
    "    [6,  '1,500 to 1,749g', 6, 1500 .. 1749, 3],\n",
    "    [7,  '1,750 to 1,999g', 7, 1750 .. 1999, 4],\n",
    "    [8,  '2,000 to 2,499g', 8, 2000 .. 2499, 5],\n",
    "    [9,  '> 2,500g',        9, 2500 .. 9999, 6],\n",
    "    # Overweight?!?\n",
    "    [11, 'Unknown',         0, []],\n",
    "\"\"\"\n",
    "\n",
    "\n",
    "data = list(cross_table['birth_weight'])\n",
    "        \n",
    "bw_bins = np.concatenate(([1], np.arange(500, 2001, 250),[2500,9999]), axis=0)\n",
    "print bw_bins\n",
    "\n",
    "inds = np.digitize(data, bw_bins)\n",
    "\n",
    "for n in range(len(data)):\n",
    "    print(bw_bins[inds[n]-1], \"<=\", data[n], \"<\", bw_bins[inds[n]])\n"
   ]
  },
  {
   "cell_type": "code",
   "execution_count": null,
   "metadata": {
    "collapsed": true
   },
   "outputs": [],
   "source": [
    "data = cross_table['gestational_age_ob_estimate']/7\n",
    "\n",
    "# '<24 weeks','24 weeks','25-26 weeks','27-28 weeks',...'35-36 weeks','37 or more weeks'\n",
    "        \n",
    "bins = np.concatenate(([0,24], np.arange(25, 36, 2),[99]), axis=0)\n",
    "print bins\n",
    "\n",
    "inds = np.digitize(data.tolist(), bins)\n",
    "\n",
    "for n in range(len(data)):\n",
    "    print(bins[inds[n]-1], \"<=\", data[n], \"<\", bins[inds[n]])\n"
   ]
  },
  {
   "cell_type": "code",
   "execution_count": 3,
   "metadata": {},
   "outputs": [
    {
     "data": {
      "text/plain": [
       "\"\\n# Find relative frequencies of values in each field\\n# - save each as dictionary (1 dict per field per table)\\nrel_freq_tA = {}\\nfor i in tableA_fields:\\n    stmt = '''SELECT {0} value, COUNT(*) count\\n    FROM {1}\\n    GROUP BY {0};'''.format(i,tableA)\\n    field_dict = exec_statement(stmt,'dict')\\n    rel_freq_tA[i] = dict(zip(field_dict['value'],field_dict['count']))\\n    \\nrel_freq_tB = {}\\nfor i in tableB_fields:\\n    stmt = '''SELECT {0} value, COUNT(*) count\\n    FROM {1}\\n    GROUP BY {0};'''.format(i,tableB)\\n    field_dict = exec_statement(stmt,'dict')\\n    rel_freq_tB[i] = dict(zip(field_dict['value'],field_dict['count']))\\n\\n# BROKEN\\ndef rel_freq(table_fields,table):\\n    # Find relative frequencies of values in each field\\n    # - save each as dictionary (1 dict per field per table)\\n    freq_out = {}\\n    for i in table_fields:\\n        stmt = '''SELECT {0} value, COUNT(*) count\\n        FROM {1}\\n        GROUP BY {0};'''.format(i,table)\\n        field_dict = l.exec_sql(stmt).to_dict()\\n        print field_dict\\n        freq_out[i] = dict(zip(field_dict['value'],field_dict['count']))\\n    \\nrel_freq_tA = rel_freq(tableA_fields,tableA)\\nrel_freq_tB = rel_freq(tableB_fields,tableB)\\n\""
      ]
     },
     "execution_count": 3,
     "metadata": {},
     "output_type": "execute_result"
    }
   ],
   "source": [
    "\"\"\"\n",
    "# Find relative frequencies of values in each field\n",
    "# - save each as dictionary (1 dict per field per table)\n",
    "rel_freq_tA = {}\n",
    "for i in tableA_fields:\n",
    "    stmt = '''SELECT {0} value, COUNT(*) count\n",
    "    FROM {1}\n",
    "    GROUP BY {0};'''.format(i,tableA)\n",
    "    field_dict = exec_statement(stmt,'dict')\n",
    "    rel_freq_tA[i] = dict(zip(field_dict['value'],field_dict['count']))\n",
    "    \n",
    "rel_freq_tB = {}\n",
    "for i in tableB_fields:\n",
    "    stmt = '''SELECT {0} value, COUNT(*) count\n",
    "    FROM {1}\n",
    "    GROUP BY {0};'''.format(i,tableB)\n",
    "    field_dict = exec_statement(stmt,'dict')\n",
    "    rel_freq_tB[i] = dict(zip(field_dict['value'],field_dict['count']))\n",
    "\n",
    "# BROKEN\n",
    "def rel_freq(table_fields,table):\n",
    "    # Find relative frequencies of values in each field\n",
    "    # - save each as dictionary (1 dict per field per table)\n",
    "    freq_out = {}\n",
    "    for i in table_fields:\n",
    "        stmt = '''SELECT {0} value, COUNT(*) count\n",
    "        FROM {1}\n",
    "        GROUP BY {0};'''.format(i,table)\n",
    "        field_dict = l.exec_sql(stmt).to_dict()\n",
    "        print field_dict\n",
    "        freq_out[i] = dict(zip(field_dict['value'],field_dict['count']))\n",
    "    \n",
    "rel_freq_tA = rel_freq(tableA_fields,tableA)\n",
    "rel_freq_tB = rel_freq(tableB_fields,tableB)\n",
    "\"\"\"\n"
   ]
  },
  {
   "cell_type": "markdown",
   "metadata": {},
   "source": [
    "### Update 'births' table accordingly"
   ]
  },
  {
   "cell_type": "code",
   "execution_count": null,
   "metadata": {
    "collapsed": true
   },
   "outputs": [],
   "source": [
    "foo = fin_bool.loc[big_bool['pair_match']==1]\n",
    "for index, row in foo.iterrows():     \n",
    "    stmt1 = '''\n",
    "        UPDATE births \n",
    "        SET newborn_id_2 = %d, newborn_linkage_score_2 = %s\n",
    "        WHERE id = %d;\n",
    "        ''' % (row['newb_id'], row['linkage_score'], row['bc_id'])\n",
    "    exec_statement(stmt1)"
   ]
  },
  {
   "cell_type": "code",
   "execution_count": null,
   "metadata": {
    "collapsed": true
   },
   "outputs": [],
   "source": []
  }
 ],
 "metadata": {
  "kernelspec": {
   "display_name": "Python 2",
   "language": "python",
   "name": "python2"
  },
  "language_info": {
   "codemirror_mode": {
    "name": "ipython",
    "version": 2
   },
   "file_extension": ".py",
   "mimetype": "text/x-python",
   "name": "python",
   "nbconvert_exporter": "python",
   "pygments_lexer": "ipython2",
   "version": "2.7.12"
  }
 },
 "nbformat": 4,
 "nbformat_minor": 2
}
